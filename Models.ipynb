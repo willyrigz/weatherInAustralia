{
 "cells": [
  {
   "cell_type": "code",
   "execution_count": 10,
   "metadata": {},
   "outputs": [],
   "source": [
    "#scipy\n",
    "import scipy.sparse as sp\n",
    "\n",
    "#pandas\n",
    "import pandas as pd\n",
    "\n",
    "#numpy\n",
    "import numpy as np\n",
    "\n",
    "#ploting\n",
    "import seaborn as sns\n",
    "%matplotlib inline\n",
    "import matplotlib.pyplot as plt\n",
    "\n",
    "#sklearn\n",
    "from sklearn.model_selection import train_test_split, GridSearchCV, StratifiedKFold\n",
    "#Tree\n",
    "from sklearn.tree import DecisionTreeClassifier\n",
    "#Ensemble\n",
    "from sklearn.ensemble import RandomForestClassifier, GradientBoostingClassifier, AdaBoostClassifier\n",
    "#Regression\n",
    "from sklearn.linear_model import LogisticRegression\n",
    "#SVM\n",
    "from sklearn.svm import LinearSVC\n",
    "\n",
    "from sklearn.model_selection import learning_curve\n",
    "\n",
    "\n",
    "# score\n",
    "from sklearn.metrics import classification_report, precision_score, make_scorer, recall_score, f1_score, confusion_matrix, accuracy_score, roc_auc_score, cohen_kappa_score\n",
    "\n",
    "#h5py dataset processing\n",
    "import h5py\n",
    "\n",
    "#supress warnings\n",
    "import warnings\n",
    "warnings.filterwarnings('ignore')"
   ]
  },
  {
   "cell_type": "code",
   "execution_count": 2,
   "metadata": {},
   "outputs": [],
   "source": [
    "target_names = ['No Rain', 'Rain']"
   ]
  },
  {
   "cell_type": "code",
   "execution_count": 3,
   "metadata": {},
   "outputs": [],
   "source": [
    "# Open the file as readonly\n",
    "h5f = h5py.File('task1data/Final_Final_dataset.h5', 'r')\n",
    "\n",
    "# Load the training, test and validation set\n",
    "X_train = h5f['X_train'][:]\n",
    "X_test = h5f['X_test'][:]\n",
    "X_train_Over = h5f['X_train_Over'][:]\n",
    "X_train_Under = h5f['X_train_Under'][:]\n",
    "yTrain = h5f['yTrain'][:]\n",
    "yTest = h5f['yTest'][:]\n",
    "yTrain_Over = h5f['yTrain_Over'][:]\n",
    "yTrain_Under = h5f['yTrain_Under'][:]\n",
    "\n",
    "# Close this file\n",
    "h5f.close()"
   ]
  },
  {
   "cell_type": "code",
   "execution_count": 5,
   "metadata": {},
   "outputs": [
    {
     "name": "stdout",
     "output_type": "stream",
     "text": [
      "Training Normal  (124907, 20) (124907,)\n",
      "Training Oversampled (194072, 20) (194072,)\n",
      "Training Undersampled (55742, 20) (55742,)\n",
      "Test (17286, 20) (17286,)\n"
     ]
    }
   ],
   "source": [
    "print('Training Normal ', X_train.shape,  yTrain.shape)\n",
    "print('Training Oversampled', X_train_Over.shape,  yTrain_Over.shape)\n",
    "print('Training Undersampled', X_train_Under.shape, yTrain_Under.shape)\n",
    "print('Test', X_test.shape, yTest.shape)"
   ]
  },
  {
   "cell_type": "markdown",
   "metadata": {},
   "source": [
    "# Models"
   ]
  },
  {
   "cell_type": "code",
   "execution_count": 6,
   "metadata": {},
   "outputs": [],
   "source": [
    "# basic function that takes classifier and datasets to display the metrics\n",
    "def algo(model, x_train, y_train, x_test, y_test):\n",
    "    \n",
    "    model.fit(x_train, y_train)\n",
    "    print('\\t\\tConfusion Matrix & Performance Metrics')\n",
    "    print('  ')\n",
    "    predictions = model.predict(x_test)\n",
    "    conf_mat = pd.DataFrame(confusion_matrix(y_test, predictions),columns=['Pred No Rain', 'Pred Rain'], index=['No Rain', 'Rain'])\n",
    "    print(conf_mat)\n",
    "    print('  ')\n",
    "    print('\\t\\tClassification Report')\n",
    "    print(classification_report(y_test, predictions, target_names=target_names))\n",
    "    metrics = {\n",
    "              'ROC AUC': [roc_auc_score(y_test, predictions)],\n",
    "              'Accuracy': [accuracy_score(y_test, predictions)],\n",
    "              }\n",
    "    \n",
    "    print('  ')\n",
    "    print(pd.DataFrame(data=metrics, index=['']))\n",
    "    print('  ')\n",
    "   \n",
    "   \n",
    "    return"
   ]
  },
  {
   "cell_type": "markdown",
   "metadata": {},
   "source": [
    "# Algorithms based on the imbalanced training data"
   ]
  },
  {
   "cell_type": "markdown",
   "metadata": {},
   "source": [
    "For each version of the training set (imbalaned, undersampled, oversampled) 4 classifiers were selected and trained to observe their performance.\n",
    "\n",
    "Tree based classifiers are among the best performing classifiers out of the box. This will allow me to get good results without ignorantly fingering the hyperparameters.\n",
    "\n",
    "Tree Ensemble classifiers almost always outperform single decision trees, so I jumped to that first, Selecting the Random Forest and Gradient Boosting classifiers. Random Forest classifiers are robust as it trains a number of trees using different samples of the data which helps it outperform single trees, while Gradient Boosting builds trees one at a time but each new tree can build on the errors from previous trees. Adaboost was used because it boosts weak learners and with scikit the default learner is a 1 depth decision tree. Finally, I attempted to train what I believe is a cost sensitive SVM classifier which penalizes mistakes on the minority class."
   ]
  },
  {
   "cell_type": "markdown",
   "metadata": {},
   "source": [
    "## Random Forest"
   ]
  },
  {
   "cell_type": "code",
   "execution_count": 15,
   "metadata": {},
   "outputs": [
    {
     "name": "stdout",
     "output_type": "stream",
     "text": [
      "\t\tConfusion Matrix & Performance Metrics\n",
      "  \n",
      "         Pred No Rain  Pred Rain\n",
      "No Rain         12758        522\n",
      "Rain             2714       1292\n",
      "  \n",
      "\t\tClassification Report\n",
      "              precision    recall  f1-score   support\n",
      "\n",
      "     No Rain       0.82      0.96      0.89     13280\n",
      "        Rain       0.71      0.32      0.44      4006\n",
      "\n",
      "   micro avg       0.81      0.81      0.81     17286\n",
      "   macro avg       0.77      0.64      0.67     17286\n",
      "weighted avg       0.80      0.81      0.78     17286\n",
      "\n",
      "  \n",
      "   ROC AUC  Accuracy\n",
      "  0.641604  0.812796\n",
      "  \n"
     ]
    }
   ],
   "source": [
    "RF_clf = RandomForestClassifier(random_state=66)\n",
    "algo(RF_clf, X_train, yTrain, X_test, yTest)"
   ]
  },
  {
   "cell_type": "markdown",
   "metadata": {},
   "source": [
    "## Gradient Boost"
   ]
  },
  {
   "cell_type": "code",
   "execution_count": 16,
   "metadata": {},
   "outputs": [
    {
     "name": "stdout",
     "output_type": "stream",
     "text": [
      "\t\tConfusion Matrix & Performance Metrics\n",
      "  \n",
      "         Pred No Rain  Pred Rain\n",
      "No Rain         12914        366\n",
      "Rain             2600       1406\n",
      "  \n",
      "\t\tClassification Report\n",
      "              precision    recall  f1-score   support\n",
      "\n",
      "     No Rain       0.83      0.97      0.90     13280\n",
      "        Rain       0.79      0.35      0.49      4006\n",
      "\n",
      "   micro avg       0.83      0.83      0.83     17286\n",
      "   macro avg       0.81      0.66      0.69     17286\n",
      "weighted avg       0.82      0.83      0.80     17286\n",
      "\n",
      "  \n",
      "   ROC AUC  Accuracy\n",
      "  0.661707  0.828416\n",
      "  \n"
     ]
    }
   ],
   "source": [
    "GB_clf = GradientBoostingClassifier(random_state=66)\n",
    "algo(GB_clf, X_train, yTrain, X_test, yTest)"
   ]
  },
  {
   "cell_type": "markdown",
   "metadata": {},
   "source": [
    "## ADA Boost"
   ]
  },
  {
   "cell_type": "code",
   "execution_count": 19,
   "metadata": {},
   "outputs": [
    {
     "name": "stdout",
     "output_type": "stream",
     "text": [
      "\t\tConfusion Matrix & Performance Metrics\n",
      "  \n",
      "         Pred No Rain  Pred Rain\n",
      "No Rain         13121        159\n",
      "Rain             3133        873\n",
      "  \n",
      "\t\tClassification Report\n",
      "              precision    recall  f1-score   support\n",
      "\n",
      "     No Rain       0.81      0.99      0.89     13280\n",
      "        Rain       0.85      0.22      0.35      4006\n",
      "\n",
      "   micro avg       0.81      0.81      0.81     17286\n",
      "   macro avg       0.83      0.60      0.62     17286\n",
      "weighted avg       0.82      0.81      0.76     17286\n",
      "\n",
      "  \n",
      "   ROC AUC  Accuracy\n",
      "  0.602975  0.809557\n",
      "  \n",
      "Wall time: 16.7 s\n"
     ]
    }
   ],
   "source": [
    "%%time\n",
    "ADB_clf = AdaBoostClassifier(random_state=66)\n",
    "algo(ADB_clf, X_train, yTrain, X_test, yTest)"
   ]
  },
  {
   "cell_type": "markdown",
   "metadata": {},
   "source": [
    "## SVM"
   ]
  },
  {
   "cell_type": "code",
   "execution_count": 25,
   "metadata": {},
   "outputs": [
    {
     "name": "stdout",
     "output_type": "stream",
     "text": [
      "\t\tConfusion Matrix & Performance Metrics\n",
      "  \n",
      "         Pred No Rain  Pred Rain\n",
      "No Rain         12992        288\n",
      "Rain             3758        248\n",
      "  \n",
      "\t\tClassification Report\n",
      "              precision    recall  f1-score   support\n",
      "\n",
      "     No Rain       0.78      0.98      0.87     13280\n",
      "        Rain       0.46      0.06      0.11      4006\n",
      "\n",
      "   micro avg       0.77      0.77      0.77     17286\n",
      "   macro avg       0.62      0.52      0.49     17286\n",
      "weighted avg       0.70      0.77      0.69     17286\n",
      "\n",
      "  \n",
      "  ROC AUC  Accuracy\n",
      "  0.52011  0.765938\n",
      "  \n",
      "Wall time: 33.3 s\n"
     ]
    }
   ],
   "source": [
    "%%time\n",
    "SVM_clf = LinearSVC(class_weight='balanced',random_state=66)\n",
    "algo(SVM_clf, X_train, yTrain, X_test, yTest)"
   ]
  },
  {
   "cell_type": "markdown",
   "metadata": {},
   "source": [
    "# Algorithms based on the Undersampled training data"
   ]
  },
  {
   "cell_type": "markdown",
   "metadata": {},
   "source": [
    "## Random Forest"
   ]
  },
  {
   "cell_type": "code",
   "execution_count": 35,
   "metadata": {},
   "outputs": [
    {
     "name": "stdout",
     "output_type": "stream",
     "text": [
      "\t\tConfusion Matrix & Performance Metrics\n",
      "  \n",
      "         Pred No Rain  Pred Rain\n",
      "No Rain         11597       1683\n",
      "Rain             1872       2134\n",
      "  \n",
      "\t\tClassification Report\n",
      "              precision    recall  f1-score   support\n",
      "\n",
      "     No Rain       0.86      0.87      0.87     13280\n",
      "        Rain       0.56      0.53      0.55      4006\n",
      "\n",
      "   micro avg       0.79      0.79      0.79     17286\n",
      "   macro avg       0.71      0.70      0.71     17286\n",
      "weighted avg       0.79      0.79      0.79     17286\n",
      "\n",
      "  \n",
      "   ROC AUC  Accuracy\n",
      "  0.702985  0.794342\n",
      "  \n"
     ]
    }
   ],
   "source": [
    "RF_clf = RandomForestClassifier(random_state=66)\n",
    "algo(RF_clf, X_train_Under, yTrain_Under, X_test, yTest)"
   ]
  },
  {
   "cell_type": "markdown",
   "metadata": {},
   "source": [
    "## Gradient Boost"
   ]
  },
  {
   "cell_type": "code",
   "execution_count": 36,
   "metadata": {},
   "outputs": [
    {
     "name": "stdout",
     "output_type": "stream",
     "text": [
      "\t\tConfusion Matrix & Performance Metrics\n",
      "  \n",
      "         Pred No Rain  Pred Rain\n",
      "No Rain         11758       1522\n",
      "Rain             1676       2330\n",
      "  \n",
      "\t\tClassification Report\n",
      "              precision    recall  f1-score   support\n",
      "\n",
      "     No Rain       0.88      0.89      0.88     13280\n",
      "        Rain       0.60      0.58      0.59      4006\n",
      "\n",
      "   micro avg       0.81      0.81      0.81     17286\n",
      "   macro avg       0.74      0.73      0.74     17286\n",
      "weighted avg       0.81      0.81      0.81     17286\n",
      "\n",
      "  \n",
      "  ROC AUC  Accuracy\n",
      "  0.73351  0.814995\n",
      "  \n"
     ]
    }
   ],
   "source": [
    "GB_clf = GradientBoostingClassifier(random_state=66)\n",
    "algo(GB_clf, X_train_Under, yTrain_Under, X_test, yTest)"
   ]
  },
  {
   "cell_type": "markdown",
   "metadata": {},
   "source": [
    "## ADA Boost"
   ]
  },
  {
   "cell_type": "code",
   "execution_count": 37,
   "metadata": {},
   "outputs": [
    {
     "name": "stdout",
     "output_type": "stream",
     "text": [
      "\t\tConfusion Matrix & Performance Metrics\n",
      "  \n",
      "         Pred No Rain  Pred Rain\n",
      "No Rain         12235       1045\n",
      "Rain             2072       1934\n",
      "  \n",
      "\t\tClassification Report\n",
      "              precision    recall  f1-score   support\n",
      "\n",
      "     No Rain       0.86      0.92      0.89     13280\n",
      "        Rain       0.65      0.48      0.55      4006\n",
      "\n",
      "   micro avg       0.82      0.82      0.82     17286\n",
      "   macro avg       0.75      0.70      0.72     17286\n",
      "weighted avg       0.81      0.82      0.81     17286\n",
      "\n",
      "  \n",
      "   ROC AUC  Accuracy\n",
      "  0.702043  0.819681\n",
      "  \n",
      "Wall time: 6.2 s\n"
     ]
    }
   ],
   "source": [
    "%%time\n",
    "ADB_clf = AdaBoostClassifier(random_state=66)\n",
    "algo(ADB_clf, X_train_Under, yTrain_Under, X_test, yTest)"
   ]
  },
  {
   "cell_type": "markdown",
   "metadata": {},
   "source": [
    "## SVM"
   ]
  },
  {
   "cell_type": "code",
   "execution_count": 38,
   "metadata": {},
   "outputs": [
    {
     "name": "stdout",
     "output_type": "stream",
     "text": [
      "\t\tConfusion Matrix & Performance Metrics\n",
      "  \n",
      "         Pred No Rain  Pred Rain\n",
      "No Rain         12992        288\n",
      "Rain             3757        249\n",
      "  \n",
      "\t\tClassification Report\n",
      "              precision    recall  f1-score   support\n",
      "\n",
      "     No Rain       0.78      0.98      0.87     13280\n",
      "        Rain       0.46      0.06      0.11      4006\n",
      "\n",
      "   micro avg       0.77      0.77      0.77     17286\n",
      "   macro avg       0.62      0.52      0.49     17286\n",
      "weighted avg       0.70      0.77      0.69     17286\n",
      "\n",
      "  \n",
      "   ROC AUC  Accuracy\n",
      "  0.520235  0.765996\n",
      "  \n",
      "Wall time: 8.49 s\n"
     ]
    }
   ],
   "source": [
    "%%time\n",
    "SVM_clf = LinearSVC(class_weight='balanced',random_state=66)\n",
    "algo(SVM_clf, X_train_Under, yTrain_Under, X_test, yTest)"
   ]
  },
  {
   "cell_type": "markdown",
   "metadata": {},
   "source": [
    "# Algorithms based on the Oversampled training data"
   ]
  },
  {
   "cell_type": "markdown",
   "metadata": {},
   "source": [
    "## Random Forest"
   ]
  },
  {
   "cell_type": "code",
   "execution_count": 39,
   "metadata": {},
   "outputs": [
    {
     "name": "stdout",
     "output_type": "stream",
     "text": [
      "\t\tConfusion Matrix & Performance Metrics\n",
      "  \n",
      "         Pred No Rain  Pred Rain\n",
      "No Rain         12783        497\n",
      "Rain             2840       1166\n",
      "  \n",
      "\t\tClassification Report\n",
      "              precision    recall  f1-score   support\n",
      "\n",
      "     No Rain       0.82      0.96      0.88     13280\n",
      "        Rain       0.70      0.29      0.41      4006\n",
      "\n",
      "   micro avg       0.81      0.81      0.81     17286\n",
      "   macro avg       0.76      0.63      0.65     17286\n",
      "weighted avg       0.79      0.81      0.77     17286\n",
      "\n",
      "  \n",
      "   ROC AUC  Accuracy\n",
      "  0.626819  0.806954\n",
      "  \n"
     ]
    }
   ],
   "source": [
    "RF_clf = RandomForestClassifier(random_state=66)\n",
    "algo(RF_clf, X_train_Over, yTrain_Over, X_test, yTest)"
   ]
  },
  {
   "cell_type": "markdown",
   "metadata": {},
   "source": [
    "## Gradient Boost"
   ]
  },
  {
   "cell_type": "code",
   "execution_count": 40,
   "metadata": {},
   "outputs": [
    {
     "name": "stdout",
     "output_type": "stream",
     "text": [
      "\t\tConfusion Matrix & Performance Metrics\n",
      "  \n",
      "         Pred No Rain  Pred Rain\n",
      "No Rain         11838       1442\n",
      "Rain             1701       2305\n",
      "  \n",
      "\t\tClassification Report\n",
      "              precision    recall  f1-score   support\n",
      "\n",
      "     No Rain       0.87      0.89      0.88     13280\n",
      "        Rain       0.62      0.58      0.59      4006\n",
      "\n",
      "   micro avg       0.82      0.82      0.82     17286\n",
      "   macro avg       0.74      0.73      0.74     17286\n",
      "weighted avg       0.81      0.82      0.82     17286\n",
      "\n",
      "  \n",
      "   ROC AUC  Accuracy\n",
      "  0.733401  0.818177\n",
      "  \n"
     ]
    }
   ],
   "source": [
    "GB_clf = GradientBoostingClassifier(random_state=66)\n",
    "algo(GB_clf, X_train_Over, yTrain_Over, X_test, yTest)"
   ]
  },
  {
   "cell_type": "markdown",
   "metadata": {},
   "source": [
    "## ADA Boost"
   ]
  },
  {
   "cell_type": "code",
   "execution_count": 41,
   "metadata": {},
   "outputs": [
    {
     "name": "stdout",
     "output_type": "stream",
     "text": [
      "\t\tConfusion Matrix & Performance Metrics\n",
      "  \n",
      "         Pred No Rain  Pred Rain\n",
      "No Rain         12557        723\n",
      "Rain             2379       1627\n",
      "  \n",
      "\t\tClassification Report\n",
      "              precision    recall  f1-score   support\n",
      "\n",
      "     No Rain       0.84      0.95      0.89     13280\n",
      "        Rain       0.69      0.41      0.51      4006\n",
      "\n",
      "   micro avg       0.82      0.82      0.82     17286\n",
      "   macro avg       0.77      0.68      0.70     17286\n",
      "weighted avg       0.81      0.82      0.80     17286\n",
      "\n",
      "  \n",
      "   ROC AUC  Accuracy\n",
      "  0.675849  0.820548\n",
      "  \n",
      "Wall time: 29.5 s\n"
     ]
    }
   ],
   "source": [
    "%%time\n",
    "ADB_clf = AdaBoostClassifier(random_state=66)\n",
    "algo(ADB_clf, X_train_Over, yTrain_Over, X_test, yTest)"
   ]
  },
  {
   "cell_type": "markdown",
   "metadata": {},
   "source": [
    "## SVM"
   ]
  },
  {
   "cell_type": "code",
   "execution_count": 44,
   "metadata": {},
   "outputs": [
    {
     "name": "stdout",
     "output_type": "stream",
     "text": [
      "\t\tConfusion Matrix & Performance Metrics\n",
      "  \n",
      "         Pred No Rain  Pred Rain\n",
      "No Rain         12991        289\n",
      "Rain             3757        249\n",
      "  \n",
      "\t\tClassification Report\n",
      "              precision    recall  f1-score   support\n",
      "\n",
      "     No Rain       0.78      0.98      0.87     13280\n",
      "        Rain       0.46      0.06      0.11      4006\n",
      "\n",
      "   micro avg       0.77      0.77      0.77     17286\n",
      "   macro avg       0.62      0.52      0.49     17286\n",
      "weighted avg       0.70      0.77      0.69     17286\n",
      "\n",
      "  \n",
      "   ROC AUC  Accuracy\n",
      "  0.520197  0.765938\n",
      "  \n",
      "Wall time: 27.8 s\n"
     ]
    }
   ],
   "source": [
    "%%time\n",
    "SVM_clf = LinearSVC(class_weight='balanced',random_state=66)\n",
    "algo(SVM_clf, X_train_Over, yTrain_Over, X_test, yTest)"
   ]
  },
  {
   "cell_type": "code",
   "execution_count": null,
   "metadata": {},
   "outputs": [],
   "source": []
  }
 ],
 "metadata": {
  "kernelspec": {
   "display_name": "Python 3",
   "language": "python",
   "name": "python3"
  },
  "language_info": {
   "codemirror_mode": {
    "name": "ipython",
    "version": 3
   },
   "file_extension": ".py",
   "mimetype": "text/x-python",
   "name": "python",
   "nbconvert_exporter": "python",
   "pygments_lexer": "ipython3",
   "version": "3.6.7"
  }
 },
 "nbformat": 4,
 "nbformat_minor": 2
}
