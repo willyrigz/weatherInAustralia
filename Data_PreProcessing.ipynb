{
 "cells": [
  {
   "cell_type": "markdown",
   "metadata": {},
   "source": [
    "# This notebook is to prepare the data to be used by the algorithms in order to prevent running all the time"
   ]
  },
  {
   "cell_type": "code",
   "execution_count": 1,
   "metadata": {},
   "outputs": [],
   "source": [
    "#scipy\n",
    "import scipy.sparse as sp\n",
    "from scipy.stats.stats import pearsonr\n",
    "from scipy.stats.stats import spearmanr\n",
    "\n",
    "#pandas\n",
    "from pandas import ExcelWriter\n",
    "from pandas import ExcelFile\n",
    "import pandas as pd\n",
    "\n",
    "#numpy\n",
    "import numpy as np\n",
    "\n",
    "#ploting\n",
    "import seaborn as sns\n",
    "%matplotlib inline\n",
    "import matplotlib.pyplot as plt\n",
    "\n",
    "#sklearn -scaling imputing\n",
    "from sklearn.preprocessing import MinMaxScaler\n",
    "from sklearn.impute import SimpleImputer\n",
    "\n",
    "\n",
    "#data balance\n",
    "from imblearn.over_sampling import RandomOverSampler\n",
    "from imblearn.under_sampling import RandomUnderSampler\n",
    "\n",
    "#h5py dataset processing\n",
    "import h5py\n",
    "\n",
    "#supress warnings\n",
    "import warnings\n",
    "warnings.filterwarnings('ignore')"
   ]
  },
  {
   "cell_type": "markdown",
   "metadata": {},
   "source": [
    "# Data Preparation & Exploration"
   ]
  },
  {
   "cell_type": "markdown",
   "metadata": {},
   "source": [
    "## Read the data"
   ]
  },
  {
   "cell_type": "markdown",
   "metadata": {},
   "source": [
    "Reads in the weather data and the regions data. The region data states if the location is located in the Northern or Southern part of the country.\n",
    "\n",
    "It also prepares the season column. This column was made because australia has two main seasons for rain depending on the region"
   ]
  },
  {
   "cell_type": "code",
   "execution_count": 2,
   "metadata": {},
   "outputs": [
    {
     "data": {
      "text/html": [
       "<div>\n",
       "<style scoped>\n",
       "    .dataframe tbody tr th:only-of-type {\n",
       "        vertical-align: middle;\n",
       "    }\n",
       "\n",
       "    .dataframe tbody tr th {\n",
       "        vertical-align: top;\n",
       "    }\n",
       "\n",
       "    .dataframe thead th {\n",
       "        text-align: right;\n",
       "    }\n",
       "</style>\n",
       "<table border=\"1\" class=\"dataframe\">\n",
       "  <thead>\n",
       "    <tr style=\"text-align: right;\">\n",
       "      <th></th>\n",
       "      <th>Date</th>\n",
       "      <th>MinTemp</th>\n",
       "      <th>MaxTemp</th>\n",
       "      <th>Rainfall</th>\n",
       "      <th>Evaporation</th>\n",
       "      <th>Sunshine</th>\n",
       "      <th>WindGustDir</th>\n",
       "      <th>WindGustSpeed</th>\n",
       "      <th>WindDir9am</th>\n",
       "      <th>WindDir3pm</th>\n",
       "      <th>...</th>\n",
       "      <th>Pressure3pm</th>\n",
       "      <th>Cloud9am</th>\n",
       "      <th>Cloud3pm</th>\n",
       "      <th>Temp9am</th>\n",
       "      <th>Temp3pm</th>\n",
       "      <th>RainToday</th>\n",
       "      <th>RISK_MM</th>\n",
       "      <th>RainTomorrow</th>\n",
       "      <th>Region</th>\n",
       "      <th>Season</th>\n",
       "    </tr>\n",
       "  </thead>\n",
       "  <tbody>\n",
       "    <tr>\n",
       "      <th>0</th>\n",
       "      <td>2008-12-01</td>\n",
       "      <td>13.4</td>\n",
       "      <td>22.9</td>\n",
       "      <td>0.6</td>\n",
       "      <td>NaN</td>\n",
       "      <td>NaN</td>\n",
       "      <td>W</td>\n",
       "      <td>44.0</td>\n",
       "      <td>W</td>\n",
       "      <td>WNW</td>\n",
       "      <td>...</td>\n",
       "      <td>1007.1</td>\n",
       "      <td>8.0</td>\n",
       "      <td>NaN</td>\n",
       "      <td>16.9</td>\n",
       "      <td>21.8</td>\n",
       "      <td>No</td>\n",
       "      <td>0.0</td>\n",
       "      <td>No</td>\n",
       "      <td>Southern</td>\n",
       "      <td>Oct-March</td>\n",
       "    </tr>\n",
       "    <tr>\n",
       "      <th>1</th>\n",
       "      <td>2008-12-02</td>\n",
       "      <td>7.4</td>\n",
       "      <td>25.1</td>\n",
       "      <td>0.0</td>\n",
       "      <td>NaN</td>\n",
       "      <td>NaN</td>\n",
       "      <td>WNW</td>\n",
       "      <td>44.0</td>\n",
       "      <td>NNW</td>\n",
       "      <td>WSW</td>\n",
       "      <td>...</td>\n",
       "      <td>1007.8</td>\n",
       "      <td>NaN</td>\n",
       "      <td>NaN</td>\n",
       "      <td>17.2</td>\n",
       "      <td>24.3</td>\n",
       "      <td>No</td>\n",
       "      <td>0.0</td>\n",
       "      <td>No</td>\n",
       "      <td>Southern</td>\n",
       "      <td>Oct-March</td>\n",
       "    </tr>\n",
       "    <tr>\n",
       "      <th>2</th>\n",
       "      <td>2008-12-03</td>\n",
       "      <td>12.9</td>\n",
       "      <td>25.7</td>\n",
       "      <td>0.0</td>\n",
       "      <td>NaN</td>\n",
       "      <td>NaN</td>\n",
       "      <td>WSW</td>\n",
       "      <td>46.0</td>\n",
       "      <td>W</td>\n",
       "      <td>WSW</td>\n",
       "      <td>...</td>\n",
       "      <td>1008.7</td>\n",
       "      <td>NaN</td>\n",
       "      <td>2.0</td>\n",
       "      <td>21.0</td>\n",
       "      <td>23.2</td>\n",
       "      <td>No</td>\n",
       "      <td>0.0</td>\n",
       "      <td>No</td>\n",
       "      <td>Southern</td>\n",
       "      <td>Oct-March</td>\n",
       "    </tr>\n",
       "    <tr>\n",
       "      <th>3</th>\n",
       "      <td>2008-12-04</td>\n",
       "      <td>9.2</td>\n",
       "      <td>28.0</td>\n",
       "      <td>0.0</td>\n",
       "      <td>NaN</td>\n",
       "      <td>NaN</td>\n",
       "      <td>NE</td>\n",
       "      <td>24.0</td>\n",
       "      <td>SE</td>\n",
       "      <td>E</td>\n",
       "      <td>...</td>\n",
       "      <td>1012.8</td>\n",
       "      <td>NaN</td>\n",
       "      <td>NaN</td>\n",
       "      <td>18.1</td>\n",
       "      <td>26.5</td>\n",
       "      <td>No</td>\n",
       "      <td>1.0</td>\n",
       "      <td>No</td>\n",
       "      <td>Southern</td>\n",
       "      <td>Oct-March</td>\n",
       "    </tr>\n",
       "    <tr>\n",
       "      <th>4</th>\n",
       "      <td>2008-12-05</td>\n",
       "      <td>17.5</td>\n",
       "      <td>32.3</td>\n",
       "      <td>1.0</td>\n",
       "      <td>NaN</td>\n",
       "      <td>NaN</td>\n",
       "      <td>W</td>\n",
       "      <td>41.0</td>\n",
       "      <td>ENE</td>\n",
       "      <td>NW</td>\n",
       "      <td>...</td>\n",
       "      <td>1006.0</td>\n",
       "      <td>7.0</td>\n",
       "      <td>8.0</td>\n",
       "      <td>17.8</td>\n",
       "      <td>29.7</td>\n",
       "      <td>No</td>\n",
       "      <td>0.2</td>\n",
       "      <td>No</td>\n",
       "      <td>Southern</td>\n",
       "      <td>Oct-March</td>\n",
       "    </tr>\n",
       "  </tbody>\n",
       "</table>\n",
       "<p>5 rows × 25 columns</p>\n",
       "</div>"
      ],
      "text/plain": [
       "         Date  MinTemp  MaxTemp  Rainfall  Evaporation  Sunshine WindGustDir  \\\n",
       "0  2008-12-01     13.4     22.9       0.6          NaN       NaN           W   \n",
       "1  2008-12-02      7.4     25.1       0.0          NaN       NaN         WNW   \n",
       "2  2008-12-03     12.9     25.7       0.0          NaN       NaN         WSW   \n",
       "3  2008-12-04      9.2     28.0       0.0          NaN       NaN          NE   \n",
       "4  2008-12-05     17.5     32.3       1.0          NaN       NaN           W   \n",
       "\n",
       "   WindGustSpeed WindDir9am WindDir3pm  ...  Pressure3pm  Cloud9am  Cloud3pm  \\\n",
       "0           44.0          W        WNW  ...       1007.1       8.0       NaN   \n",
       "1           44.0        NNW        WSW  ...       1007.8       NaN       NaN   \n",
       "2           46.0          W        WSW  ...       1008.7       NaN       2.0   \n",
       "3           24.0         SE          E  ...       1012.8       NaN       NaN   \n",
       "4           41.0        ENE         NW  ...       1006.0       7.0       8.0   \n",
       "\n",
       "   Temp9am  Temp3pm  RainToday  RISK_MM  RainTomorrow    Region     Season  \n",
       "0     16.9     21.8         No      0.0            No  Southern  Oct-March  \n",
       "1     17.2     24.3         No      0.0            No  Southern  Oct-March  \n",
       "2     21.0     23.2         No      0.0            No  Southern  Oct-March  \n",
       "3     18.1     26.5         No      1.0            No  Southern  Oct-March  \n",
       "4     17.8     29.7         No      0.2            No  Southern  Oct-March  \n",
       "\n",
       "[5 rows x 25 columns]"
      ]
     },
     "execution_count": 2,
     "metadata": {},
     "output_type": "execute_result"
    }
   ],
   "source": [
    "df = pd.read_csv('weatherAUS.csv')\n",
    "df2 = pd.read_csv('regions.csv')\n",
    "df['Region'] = 'NaN'\n",
    "df['Season'] = 'NaN'\n",
    "for i in range(len(df2.Location)):\n",
    "    location = df2['Location'][i]\n",
    "    region = df2['region'][i]\n",
    "    df.Region[df['Location'] == location] = region\n",
    "\n",
    "df.drop(['Location'], axis=1, inplace=True)\n",
    "#Create a season column based on the month of the year\n",
    "df['Season'][pd.to_datetime(df['Date']).dt.strftime('%B').isin(['April', 'May', 'June', 'July', 'August', 'September'])]= 'April-Sept'\n",
    "df['Season'][pd.to_datetime(df['Date']).dt.strftime('%B').isin(['October', 'November', 'December', 'January', 'February', 'March'])]= 'Oct-March'\n",
    "\n",
    "df.head()"
   ]
  },
  {
   "cell_type": "markdown",
   "metadata": {},
   "source": [
    "rearrange and rename the columns"
   ]
  },
  {
   "cell_type": "code",
   "execution_count": 3,
   "metadata": {},
   "outputs": [],
   "source": [
    "cols = df.columns.tolist()\n",
    "cols = cols[0:1] + cols[-2:] + cols[1:-2]\n",
    "df = df[cols]\n",
    "df.rename(columns={'Region':'Location'},inplace=True)"
   ]
  },
  {
   "cell_type": "code",
   "execution_count": 4,
   "metadata": {},
   "outputs": [],
   "source": [
    "df.columns = df.columns.str.strip()\n",
    "df['RainTomorrow'] = df['RainTomorrow'].map( {'No': 0, 'Yes': 1} ).astype(int)"
   ]
  },
  {
   "cell_type": "markdown",
   "metadata": {},
   "source": [
    "Just looking at column dataframe datatypes"
   ]
  },
  {
   "cell_type": "code",
   "execution_count": 5,
   "metadata": {},
   "outputs": [
    {
     "data": {
      "text/plain": [
       "Date              object\n",
       "Location          object\n",
       "Season            object\n",
       "MinTemp          float64\n",
       "MaxTemp          float64\n",
       "Rainfall         float64\n",
       "Evaporation      float64\n",
       "Sunshine         float64\n",
       "WindGustDir       object\n",
       "WindGustSpeed    float64\n",
       "WindDir9am        object\n",
       "WindDir3pm        object\n",
       "WindSpeed9am     float64\n",
       "WindSpeed3pm     float64\n",
       "Humidity9am      float64\n",
       "Humidity3pm      float64\n",
       "Pressure9am      float64\n",
       "Pressure3pm      float64\n",
       "Cloud9am         float64\n",
       "Cloud3pm         float64\n",
       "Temp9am          float64\n",
       "Temp3pm          float64\n",
       "RainToday         object\n",
       "RISK_MM          float64\n",
       "RainTomorrow       int32\n",
       "dtype: object"
      ]
     },
     "execution_count": 5,
     "metadata": {},
     "output_type": "execute_result"
    }
   ],
   "source": [
    "df.dtypes"
   ]
  },
  {
   "cell_type": "markdown",
   "metadata": {},
   "source": [
    "# Split data into 2 groups"
   ]
  },
  {
   "cell_type": "markdown",
   "metadata": {},
   "source": [
    "All Data before July 2016 will be used for training while all data from July 2016 will be used to test the models"
   ]
  },
  {
   "cell_type": "code",
   "execution_count": 6,
   "metadata": {},
   "outputs": [],
   "source": [
    "trainYear = df[df['Date'] < \"2016-07-01\"]\n",
    "testYear = df[df['Date'] >= \"2016-07-01\"]\n",
    "trainYear = trainYear.to_numpy()\n",
    "testYear = testYear.to_numpy()\n",
    "trainYear = pd.DataFrame(trainYear, columns=df.columns)\n",
    "testYear = pd.DataFrame(testYear, columns=df.columns)\n",
    "trainYear = trainYear.astype(dtype={'Date': object,'Location':object,'Season':object,'MinTemp': 'float64','MaxTemp':'float64','Rainfall': 'float64','Evaporation':'float64','Sunshine': 'float64','WindGustDir':object,'WindGustSpeed': 'float64','WindDir9am':object,'WindDir3pm': object,'WindSpeed9am':'float64','WindSpeed3pm': 'float64','Humidity9am':'float64','Humidity3pm': 'float64','Pressure9am':'float64','Pressure3pm': 'float64','Cloud9am':'float64','Cloud3pm': 'float64','Temp9am':'float64','Temp3pm': 'float64','RainToday':object,'RISK_MM': 'float64','RainTomorrow':'int32'})\n",
    "testYear = testYear.astype(dtype={'Date': object,'Location':object,'Season':object,'MinTemp': 'float64','MaxTemp':'float64','Rainfall': 'float64','Evaporation':'float64','Sunshine': 'float64','WindGustDir':object,'WindGustSpeed': 'float64','WindDir9am':object,'WindDir3pm': object,'WindSpeed9am':'float64','WindSpeed3pm': 'float64','Humidity9am':'float64','Humidity3pm': 'float64','Pressure9am':'float64','Pressure3pm': 'float64','Cloud9am':'float64','Cloud3pm': 'float64','Temp9am':'float64','Temp3pm': 'float64','RainToday':object,'RISK_MM': 'float64','RainTomorrow':'int32'})"
   ]
  },
  {
   "cell_type": "markdown",
   "metadata": {},
   "source": [
    "# Explore Missing Values"
   ]
  },
  {
   "cell_type": "markdown",
   "metadata": {},
   "source": [
    "Looking at the missing values below, we can see that 40% of the values in the Evaporation, Sunshine, Cloud9am and Cloud3pm variables are missing. Further inspection of the training and test set shows that more than 50% of the values in the test set are missing. Giving that we will impute these variables as scikit doesn't accept missing variables replacing them will replace majority of the data. Hence, these columns will not be used for the model"
   ]
  },
  {
   "cell_type": "code",
   "execution_count": 7,
   "metadata": {},
   "outputs": [
    {
     "data": {
      "text/plain": [
       "Date              0.000000\n",
       "Location          0.000000\n",
       "Season            0.000000\n",
       "MinTemp           0.447983\n",
       "MaxTemp           0.226453\n",
       "Rainfall          0.988797\n",
       "Evaporation      42.789026\n",
       "Sunshine         47.692924\n",
       "WindGustDir       6.561504\n",
       "WindGustSpeed     6.519308\n",
       "WindDir9am        7.041838\n",
       "WindDir3pm        2.656952\n",
       "WindSpeed9am      0.948007\n",
       "WindSpeed3pm      1.849599\n",
       "Humidity9am       1.247600\n",
       "Humidity3pm       2.538803\n",
       "Pressure9am       9.855619\n",
       "Pressure3pm       9.832411\n",
       "Cloud9am         37.735332\n",
       "Cloud3pm         40.152469\n",
       "Temp9am           0.635756\n",
       "Temp3pm           1.917113\n",
       "RainToday         0.988797\n",
       "RISK_MM           0.000000\n",
       "RainTomorrow      0.000000\n",
       "dtype: float64"
      ]
     },
     "execution_count": 7,
     "metadata": {},
     "output_type": "execute_result"
    }
   ],
   "source": [
    "df.isnull().mean(axis = 0) * 100"
   ]
  },
  {
   "cell_type": "code",
   "execution_count": 8,
   "metadata": {},
   "outputs": [
    {
     "data": {
      "text/plain": [
       "Date              0.000000\n",
       "Location          0.000000\n",
       "Season            0.000000\n",
       "MinTemp           0.415509\n",
       "MaxTemp           0.210557\n",
       "Rainfall          0.971923\n",
       "Evaporation      40.110642\n",
       "Sunshine         44.114421\n",
       "WindGustDir       6.680971\n",
       "WindGustSpeed     6.632935\n",
       "WindDir9am        7.216569\n",
       "WindDir3pm        2.374567\n",
       "WindSpeed9am      1.013554\n",
       "WindSpeed3pm      1.515528\n",
       "Humidity9am       1.234518\n",
       "Humidity3pm       1.930236\n",
       "Pressure9am       9.796088\n",
       "Pressure3pm       9.767267\n",
       "Cloud9am         36.708911\n",
       "Cloud3pm         38.370147\n",
       "Temp9am           0.678905\n",
       "Temp3pm           1.346602\n",
       "RainToday         0.971923\n",
       "RISK_MM           0.000000\n",
       "RainTomorrow      0.000000\n",
       "dtype: float64"
      ]
     },
     "execution_count": 8,
     "metadata": {},
     "output_type": "execute_result"
    }
   ],
   "source": [
    "trainYear.isnull().mean(axis = 0) * 100"
   ]
  },
  {
   "cell_type": "code",
   "execution_count": 9,
   "metadata": {},
   "outputs": [
    {
     "data": {
      "text/plain": [
       "Date              0.000000\n",
       "Location          0.000000\n",
       "Season            0.000000\n",
       "MinTemp           0.682633\n",
       "MaxTemp           0.341317\n",
       "Rainfall          1.110725\n",
       "Evaporation      62.142774\n",
       "Sunshine         73.550850\n",
       "WindGustDir       5.698253\n",
       "WindGustSpeed     5.698253\n",
       "WindDir9am        5.779243\n",
       "WindDir3pm        4.697443\n",
       "WindSpeed9am      0.474372\n",
       "WindSpeed3pm      4.263566\n",
       "Humidity9am       1.342127\n",
       "Humidity3pm       6.936249\n",
       "Pressure9am      10.285780\n",
       "Pressure3pm      10.303135\n",
       "Cloud9am         45.152146\n",
       "Cloud3pm         53.031355\n",
       "Temp9am           0.323962\n",
       "Temp3pm           6.039570\n",
       "RainToday         1.110725\n",
       "RISK_MM           0.000000\n",
       "RainTomorrow      0.000000\n",
       "dtype: float64"
      ]
     },
     "execution_count": 9,
     "metadata": {},
     "output_type": "execute_result"
    }
   ],
   "source": [
    "testYear.isnull().mean(axis = 0) * 100"
   ]
  },
  {
   "cell_type": "markdown",
   "metadata": {},
   "source": [
    "Evaporation, Sunshine, Cloud 9am & 3pm were dropped due to the % of missing values. As replacing such a large number of missing values makes no sense in leaving the featyres.\n",
    "\n",
    "Risk_mm was removed as it was recommended by the owner of the dataset as it kind of leaks the answer to the model and gives a false sense of good performance by the models."
   ]
  },
  {
   "cell_type": "code",
   "execution_count": 10,
   "metadata": {},
   "outputs": [],
   "source": [
    "trainYear.drop(['Evaporation','Sunshine','Cloud9am','Cloud3pm','RISK_MM'], axis=1, inplace=True)\n",
    "testYear.drop(['Evaporation','Sunshine','Cloud9am','Cloud3pm','RISK_MM'], axis=1, inplace=True)"
   ]
  },
  {
   "cell_type": "markdown",
   "metadata": {},
   "source": [
    "## Correlation Matrix"
   ]
  },
  {
   "cell_type": "markdown",
   "metadata": {},
   "source": [
    "The correlation matrix for the training data was reviewed to observe highly correlated features."
   ]
  },
  {
   "cell_type": "code",
   "execution_count": 11,
   "metadata": {},
   "outputs": [
    {
     "data": {
      "text/html": [
       "<div>\n",
       "<style scoped>\n",
       "    .dataframe tbody tr th:only-of-type {\n",
       "        vertical-align: middle;\n",
       "    }\n",
       "\n",
       "    .dataframe tbody tr th {\n",
       "        vertical-align: top;\n",
       "    }\n",
       "\n",
       "    .dataframe thead th {\n",
       "        text-align: right;\n",
       "    }\n",
       "</style>\n",
       "<table border=\"1\" class=\"dataframe\">\n",
       "  <thead>\n",
       "    <tr style=\"text-align: right;\">\n",
       "      <th></th>\n",
       "      <th>MinTemp</th>\n",
       "      <th>MaxTemp</th>\n",
       "      <th>Rainfall</th>\n",
       "      <th>WindGustSpeed</th>\n",
       "      <th>WindSpeed9am</th>\n",
       "      <th>WindSpeed3pm</th>\n",
       "      <th>Humidity9am</th>\n",
       "      <th>Humidity3pm</th>\n",
       "      <th>Pressure9am</th>\n",
       "      <th>Pressure3pm</th>\n",
       "      <th>Temp9am</th>\n",
       "      <th>Temp3pm</th>\n",
       "      <th>RainTomorrow</th>\n",
       "    </tr>\n",
       "  </thead>\n",
       "  <tbody>\n",
       "    <tr>\n",
       "      <th>MinTemp</th>\n",
       "      <td>1.000000</td>\n",
       "      <td>0.735048</td>\n",
       "      <td>0.104338</td>\n",
       "      <td>0.178734</td>\n",
       "      <td>0.177856</td>\n",
       "      <td>0.177005</td>\n",
       "      <td>-0.233673</td>\n",
       "      <td>0.008107</td>\n",
       "      <td>-0.447661</td>\n",
       "      <td>-0.457217</td>\n",
       "      <td>0.901281</td>\n",
       "      <td>0.708224</td>\n",
       "      <td>0.084140</td>\n",
       "    </tr>\n",
       "    <tr>\n",
       "      <th>MaxTemp</th>\n",
       "      <td>0.735048</td>\n",
       "      <td>1.000000</td>\n",
       "      <td>-0.073479</td>\n",
       "      <td>0.068704</td>\n",
       "      <td>0.015470</td>\n",
       "      <td>0.050694</td>\n",
       "      <td>-0.506784</td>\n",
       "      <td>-0.508762</td>\n",
       "      <td>-0.327274</td>\n",
       "      <td>-0.421548</td>\n",
       "      <td>0.886462</td>\n",
       "      <td>0.984689</td>\n",
       "      <td>-0.161141</td>\n",
       "    </tr>\n",
       "    <tr>\n",
       "      <th>Rainfall</th>\n",
       "      <td>0.104338</td>\n",
       "      <td>-0.073479</td>\n",
       "      <td>1.000000</td>\n",
       "      <td>0.131602</td>\n",
       "      <td>0.084941</td>\n",
       "      <td>0.055560</td>\n",
       "      <td>0.222593</td>\n",
       "      <td>0.253426</td>\n",
       "      <td>-0.168424</td>\n",
       "      <td>-0.128262</td>\n",
       "      <td>0.012625</td>\n",
       "      <td>-0.076880</td>\n",
       "      <td>0.238596</td>\n",
       "    </tr>\n",
       "    <tr>\n",
       "      <th>WindGustSpeed</th>\n",
       "      <td>0.178734</td>\n",
       "      <td>0.068704</td>\n",
       "      <td>0.131602</td>\n",
       "      <td>1.000000</td>\n",
       "      <td>0.605117</td>\n",
       "      <td>0.685232</td>\n",
       "      <td>-0.217565</td>\n",
       "      <td>-0.029475</td>\n",
       "      <td>-0.450956</td>\n",
       "      <td>-0.406389</td>\n",
       "      <td>0.151930</td>\n",
       "      <td>0.034161</td>\n",
       "      <td>0.230033</td>\n",
       "    </tr>\n",
       "    <tr>\n",
       "      <th>WindSpeed9am</th>\n",
       "      <td>0.177856</td>\n",
       "      <td>0.015470</td>\n",
       "      <td>0.084941</td>\n",
       "      <td>0.605117</td>\n",
       "      <td>1.000000</td>\n",
       "      <td>0.520129</td>\n",
       "      <td>-0.272990</td>\n",
       "      <td>-0.034096</td>\n",
       "      <td>-0.221240</td>\n",
       "      <td>-0.169305</td>\n",
       "      <td>0.130692</td>\n",
       "      <td>0.005146</td>\n",
       "      <td>0.087724</td>\n",
       "    </tr>\n",
       "    <tr>\n",
       "      <th>WindSpeed3pm</th>\n",
       "      <td>0.177005</td>\n",
       "      <td>0.050694</td>\n",
       "      <td>0.055560</td>\n",
       "      <td>0.685232</td>\n",
       "      <td>0.520129</td>\n",
       "      <td>1.000000</td>\n",
       "      <td>-0.147868</td>\n",
       "      <td>0.014080</td>\n",
       "      <td>-0.290825</td>\n",
       "      <td>-0.250040</td>\n",
       "      <td>0.164458</td>\n",
       "      <td>0.027374</td>\n",
       "      <td>0.083862</td>\n",
       "    </tr>\n",
       "    <tr>\n",
       "      <th>Humidity9am</th>\n",
       "      <td>-0.233673</td>\n",
       "      <td>-0.506784</td>\n",
       "      <td>0.222593</td>\n",
       "      <td>-0.217565</td>\n",
       "      <td>-0.272990</td>\n",
       "      <td>-0.147868</td>\n",
       "      <td>1.000000</td>\n",
       "      <td>0.667699</td>\n",
       "      <td>0.131695</td>\n",
       "      <td>0.179757</td>\n",
       "      <td>-0.473473</td>\n",
       "      <td>-0.500176</td>\n",
       "      <td>0.261002</td>\n",
       "    </tr>\n",
       "    <tr>\n",
       "      <th>Humidity3pm</th>\n",
       "      <td>0.008107</td>\n",
       "      <td>-0.508762</td>\n",
       "      <td>0.253426</td>\n",
       "      <td>-0.029475</td>\n",
       "      <td>-0.034096</td>\n",
       "      <td>0.014080</td>\n",
       "      <td>0.667699</td>\n",
       "      <td>1.000000</td>\n",
       "      <td>-0.031978</td>\n",
       "      <td>0.048068</td>\n",
       "      <td>-0.219845</td>\n",
       "      <td>-0.557401</td>\n",
       "      <td>0.447910</td>\n",
       "    </tr>\n",
       "    <tr>\n",
       "      <th>Pressure9am</th>\n",
       "      <td>-0.447661</td>\n",
       "      <td>-0.327274</td>\n",
       "      <td>-0.168424</td>\n",
       "      <td>-0.450956</td>\n",
       "      <td>-0.221240</td>\n",
       "      <td>-0.290825</td>\n",
       "      <td>0.131695</td>\n",
       "      <td>-0.031978</td>\n",
       "      <td>1.000000</td>\n",
       "      <td>0.961533</td>\n",
       "      <td>-0.418205</td>\n",
       "      <td>-0.284368</td>\n",
       "      <td>-0.244211</td>\n",
       "    </tr>\n",
       "    <tr>\n",
       "      <th>Pressure3pm</th>\n",
       "      <td>-0.457217</td>\n",
       "      <td>-0.421548</td>\n",
       "      <td>-0.128262</td>\n",
       "      <td>-0.406389</td>\n",
       "      <td>-0.169305</td>\n",
       "      <td>-0.250040</td>\n",
       "      <td>0.179757</td>\n",
       "      <td>0.048068</td>\n",
       "      <td>0.961533</td>\n",
       "      <td>1.000000</td>\n",
       "      <td>-0.464868</td>\n",
       "      <td>-0.386758</td>\n",
       "      <td>-0.222807</td>\n",
       "    </tr>\n",
       "    <tr>\n",
       "      <th>Temp9am</th>\n",
       "      <td>0.901281</td>\n",
       "      <td>0.886462</td>\n",
       "      <td>0.012625</td>\n",
       "      <td>0.151930</td>\n",
       "      <td>0.130692</td>\n",
       "      <td>0.164458</td>\n",
       "      <td>-0.473473</td>\n",
       "      <td>-0.219845</td>\n",
       "      <td>-0.418205</td>\n",
       "      <td>-0.464868</td>\n",
       "      <td>1.000000</td>\n",
       "      <td>0.860486</td>\n",
       "      <td>-0.026834</td>\n",
       "    </tr>\n",
       "    <tr>\n",
       "      <th>Temp3pm</th>\n",
       "      <td>0.708224</td>\n",
       "      <td>0.984689</td>\n",
       "      <td>-0.076880</td>\n",
       "      <td>0.034161</td>\n",
       "      <td>0.005146</td>\n",
       "      <td>0.027374</td>\n",
       "      <td>-0.500176</td>\n",
       "      <td>-0.557401</td>\n",
       "      <td>-0.284368</td>\n",
       "      <td>-0.386758</td>\n",
       "      <td>0.860486</td>\n",
       "      <td>1.000000</td>\n",
       "      <td>-0.193209</td>\n",
       "    </tr>\n",
       "    <tr>\n",
       "      <th>RainTomorrow</th>\n",
       "      <td>0.084140</td>\n",
       "      <td>-0.161141</td>\n",
       "      <td>0.238596</td>\n",
       "      <td>0.230033</td>\n",
       "      <td>0.087724</td>\n",
       "      <td>0.083862</td>\n",
       "      <td>0.261002</td>\n",
       "      <td>0.447910</td>\n",
       "      <td>-0.244211</td>\n",
       "      <td>-0.222807</td>\n",
       "      <td>-0.026834</td>\n",
       "      <td>-0.193209</td>\n",
       "      <td>1.000000</td>\n",
       "    </tr>\n",
       "  </tbody>\n",
       "</table>\n",
       "</div>"
      ],
      "text/plain": [
       "                MinTemp   MaxTemp  Rainfall  WindGustSpeed  WindSpeed9am  \\\n",
       "MinTemp        1.000000  0.735048  0.104338       0.178734      0.177856   \n",
       "MaxTemp        0.735048  1.000000 -0.073479       0.068704      0.015470   \n",
       "Rainfall       0.104338 -0.073479  1.000000       0.131602      0.084941   \n",
       "WindGustSpeed  0.178734  0.068704  0.131602       1.000000      0.605117   \n",
       "WindSpeed9am   0.177856  0.015470  0.084941       0.605117      1.000000   \n",
       "WindSpeed3pm   0.177005  0.050694  0.055560       0.685232      0.520129   \n",
       "Humidity9am   -0.233673 -0.506784  0.222593      -0.217565     -0.272990   \n",
       "Humidity3pm    0.008107 -0.508762  0.253426      -0.029475     -0.034096   \n",
       "Pressure9am   -0.447661 -0.327274 -0.168424      -0.450956     -0.221240   \n",
       "Pressure3pm   -0.457217 -0.421548 -0.128262      -0.406389     -0.169305   \n",
       "Temp9am        0.901281  0.886462  0.012625       0.151930      0.130692   \n",
       "Temp3pm        0.708224  0.984689 -0.076880       0.034161      0.005146   \n",
       "RainTomorrow   0.084140 -0.161141  0.238596       0.230033      0.087724   \n",
       "\n",
       "               WindSpeed3pm  Humidity9am  Humidity3pm  Pressure9am  \\\n",
       "MinTemp            0.177005    -0.233673     0.008107    -0.447661   \n",
       "MaxTemp            0.050694    -0.506784    -0.508762    -0.327274   \n",
       "Rainfall           0.055560     0.222593     0.253426    -0.168424   \n",
       "WindGustSpeed      0.685232    -0.217565    -0.029475    -0.450956   \n",
       "WindSpeed9am       0.520129    -0.272990    -0.034096    -0.221240   \n",
       "WindSpeed3pm       1.000000    -0.147868     0.014080    -0.290825   \n",
       "Humidity9am       -0.147868     1.000000     0.667699     0.131695   \n",
       "Humidity3pm        0.014080     0.667699     1.000000    -0.031978   \n",
       "Pressure9am       -0.290825     0.131695    -0.031978     1.000000   \n",
       "Pressure3pm       -0.250040     0.179757     0.048068     0.961533   \n",
       "Temp9am            0.164458    -0.473473    -0.219845    -0.418205   \n",
       "Temp3pm            0.027374    -0.500176    -0.557401    -0.284368   \n",
       "RainTomorrow       0.083862     0.261002     0.447910    -0.244211   \n",
       "\n",
       "               Pressure3pm   Temp9am   Temp3pm  RainTomorrow  \n",
       "MinTemp          -0.457217  0.901281  0.708224      0.084140  \n",
       "MaxTemp          -0.421548  0.886462  0.984689     -0.161141  \n",
       "Rainfall         -0.128262  0.012625 -0.076880      0.238596  \n",
       "WindGustSpeed    -0.406389  0.151930  0.034161      0.230033  \n",
       "WindSpeed9am     -0.169305  0.130692  0.005146      0.087724  \n",
       "WindSpeed3pm     -0.250040  0.164458  0.027374      0.083862  \n",
       "Humidity9am       0.179757 -0.473473 -0.500176      0.261002  \n",
       "Humidity3pm       0.048068 -0.219845 -0.557401      0.447910  \n",
       "Pressure9am       0.961533 -0.418205 -0.284368     -0.244211  \n",
       "Pressure3pm       1.000000 -0.464868 -0.386758     -0.222807  \n",
       "Temp9am          -0.464868  1.000000  0.860486     -0.026834  \n",
       "Temp3pm          -0.386758  0.860486  1.000000     -0.193209  \n",
       "RainTomorrow     -0.222807 -0.026834 -0.193209      1.000000  "
      ]
     },
     "execution_count": 11,
     "metadata": {},
     "output_type": "execute_result"
    }
   ],
   "source": [
    "trainYear.corr()"
   ]
  },
  {
   "cell_type": "markdown",
   "metadata": {},
   "source": [
    "Temp 9am and Min Temp, Temp 3am and Max Temp, Pressure 9am and 3pm are Highly correlated i.e. correlation greater than .8. SO spearmans r was used to check the significance of the correlation."
   ]
  },
  {
   "cell_type": "code",
   "execution_count": 12,
   "metadata": {},
   "outputs": [
    {
     "name": "stdout",
     "output_type": "stream",
     "text": [
      "Temp 9am and Min Temp\n",
      "SpearmanrResult(correlation=0.898699172124491, pvalue=0.0)\n",
      "Temp 3pm and Max Temp\n",
      "SpearmanrResult(correlation=0.9845692406688484, pvalue=0.0)\n",
      "Pressure 9am and Pressure 3pm\n",
      "SpearmanrResult(correlation=0.9595591064714105, pvalue=0.0)\n",
      "Max Temp and Min Temp\n",
      "SpearmanrResult(correlation=0.7372009790086542, pvalue=0.0)\n"
     ]
    }
   ],
   "source": [
    "print('Temp 9am and Min Temp')\n",
    "print(spearmanr(trainYear.Temp9am,trainYear.MinTemp, nan_policy='omit'))\n",
    "\n",
    "print('Temp 3pm and Max Temp')\n",
    "print(spearmanr(trainYear.Temp3pm,trainYear.MaxTemp, nan_policy='omit'))\n",
    "\n",
    "print('Pressure 9am and Pressure 3pm')\n",
    "print(spearmanr(trainYear.Pressure9am,trainYear.Pressure3pm, nan_policy='omit'))\n",
    "\n",
    "print('Max Temp and Min Temp')\n",
    "print(spearmanr(trainYear.MaxTemp,trainYear.MinTemp, nan_policy='omit'))"
   ]
  },
  {
   "cell_type": "markdown",
   "metadata": {},
   "source": [
    "## Drop Temp 9am & 3pm and Pressure 9am due to high collinearity issues"
   ]
  },
  {
   "cell_type": "markdown",
   "metadata": {},
   "source": [
    "In order to restrict multicollinearity in the features temperature 9am, 3pm and pressure 9am were dropped. Pressure 9am was droped bevause Pressure 3pm gives the latest pressure reading. So why keep the old one? Also, Pressure3pm had marginally less missing data."
   ]
  },
  {
   "cell_type": "code",
   "execution_count": 13,
   "metadata": {},
   "outputs": [],
   "source": [
    "trainYear.drop(['Pressure9am','Temp9am','Temp3pm'], axis=1, inplace=True)\n",
    "testYear.drop(['Pressure9am','Temp9am','Temp3pm'], axis=1, inplace=True)"
   ]
  },
  {
   "cell_type": "code",
   "execution_count": 14,
   "metadata": {},
   "outputs": [
    {
     "data": {
      "text/html": [
       "<div>\n",
       "<style scoped>\n",
       "    .dataframe tbody tr th:only-of-type {\n",
       "        vertical-align: middle;\n",
       "    }\n",
       "\n",
       "    .dataframe tbody tr th {\n",
       "        vertical-align: top;\n",
       "    }\n",
       "\n",
       "    .dataframe thead th {\n",
       "        text-align: right;\n",
       "    }\n",
       "</style>\n",
       "<table border=\"1\" class=\"dataframe\">\n",
       "  <thead>\n",
       "    <tr style=\"text-align: right;\">\n",
       "      <th></th>\n",
       "      <th>MinTemp</th>\n",
       "      <th>MaxTemp</th>\n",
       "      <th>Rainfall</th>\n",
       "      <th>WindGustSpeed</th>\n",
       "      <th>WindSpeed9am</th>\n",
       "      <th>WindSpeed3pm</th>\n",
       "      <th>Humidity9am</th>\n",
       "      <th>Humidity3pm</th>\n",
       "      <th>Pressure3pm</th>\n",
       "      <th>RainTomorrow</th>\n",
       "    </tr>\n",
       "  </thead>\n",
       "  <tbody>\n",
       "    <tr>\n",
       "      <th>MinTemp</th>\n",
       "      <td>1.000000</td>\n",
       "      <td>0.735048</td>\n",
       "      <td>0.104338</td>\n",
       "      <td>0.178734</td>\n",
       "      <td>0.177856</td>\n",
       "      <td>0.177005</td>\n",
       "      <td>-0.233673</td>\n",
       "      <td>0.008107</td>\n",
       "      <td>-0.457217</td>\n",
       "      <td>0.084140</td>\n",
       "    </tr>\n",
       "    <tr>\n",
       "      <th>MaxTemp</th>\n",
       "      <td>0.735048</td>\n",
       "      <td>1.000000</td>\n",
       "      <td>-0.073479</td>\n",
       "      <td>0.068704</td>\n",
       "      <td>0.015470</td>\n",
       "      <td>0.050694</td>\n",
       "      <td>-0.506784</td>\n",
       "      <td>-0.508762</td>\n",
       "      <td>-0.421548</td>\n",
       "      <td>-0.161141</td>\n",
       "    </tr>\n",
       "    <tr>\n",
       "      <th>Rainfall</th>\n",
       "      <td>0.104338</td>\n",
       "      <td>-0.073479</td>\n",
       "      <td>1.000000</td>\n",
       "      <td>0.131602</td>\n",
       "      <td>0.084941</td>\n",
       "      <td>0.055560</td>\n",
       "      <td>0.222593</td>\n",
       "      <td>0.253426</td>\n",
       "      <td>-0.128262</td>\n",
       "      <td>0.238596</td>\n",
       "    </tr>\n",
       "    <tr>\n",
       "      <th>WindGustSpeed</th>\n",
       "      <td>0.178734</td>\n",
       "      <td>0.068704</td>\n",
       "      <td>0.131602</td>\n",
       "      <td>1.000000</td>\n",
       "      <td>0.605117</td>\n",
       "      <td>0.685232</td>\n",
       "      <td>-0.217565</td>\n",
       "      <td>-0.029475</td>\n",
       "      <td>-0.406389</td>\n",
       "      <td>0.230033</td>\n",
       "    </tr>\n",
       "    <tr>\n",
       "      <th>WindSpeed9am</th>\n",
       "      <td>0.177856</td>\n",
       "      <td>0.015470</td>\n",
       "      <td>0.084941</td>\n",
       "      <td>0.605117</td>\n",
       "      <td>1.000000</td>\n",
       "      <td>0.520129</td>\n",
       "      <td>-0.272990</td>\n",
       "      <td>-0.034096</td>\n",
       "      <td>-0.169305</td>\n",
       "      <td>0.087724</td>\n",
       "    </tr>\n",
       "    <tr>\n",
       "      <th>WindSpeed3pm</th>\n",
       "      <td>0.177005</td>\n",
       "      <td>0.050694</td>\n",
       "      <td>0.055560</td>\n",
       "      <td>0.685232</td>\n",
       "      <td>0.520129</td>\n",
       "      <td>1.000000</td>\n",
       "      <td>-0.147868</td>\n",
       "      <td>0.014080</td>\n",
       "      <td>-0.250040</td>\n",
       "      <td>0.083862</td>\n",
       "    </tr>\n",
       "    <tr>\n",
       "      <th>Humidity9am</th>\n",
       "      <td>-0.233673</td>\n",
       "      <td>-0.506784</td>\n",
       "      <td>0.222593</td>\n",
       "      <td>-0.217565</td>\n",
       "      <td>-0.272990</td>\n",
       "      <td>-0.147868</td>\n",
       "      <td>1.000000</td>\n",
       "      <td>0.667699</td>\n",
       "      <td>0.179757</td>\n",
       "      <td>0.261002</td>\n",
       "    </tr>\n",
       "    <tr>\n",
       "      <th>Humidity3pm</th>\n",
       "      <td>0.008107</td>\n",
       "      <td>-0.508762</td>\n",
       "      <td>0.253426</td>\n",
       "      <td>-0.029475</td>\n",
       "      <td>-0.034096</td>\n",
       "      <td>0.014080</td>\n",
       "      <td>0.667699</td>\n",
       "      <td>1.000000</td>\n",
       "      <td>0.048068</td>\n",
       "      <td>0.447910</td>\n",
       "    </tr>\n",
       "    <tr>\n",
       "      <th>Pressure3pm</th>\n",
       "      <td>-0.457217</td>\n",
       "      <td>-0.421548</td>\n",
       "      <td>-0.128262</td>\n",
       "      <td>-0.406389</td>\n",
       "      <td>-0.169305</td>\n",
       "      <td>-0.250040</td>\n",
       "      <td>0.179757</td>\n",
       "      <td>0.048068</td>\n",
       "      <td>1.000000</td>\n",
       "      <td>-0.222807</td>\n",
       "    </tr>\n",
       "    <tr>\n",
       "      <th>RainTomorrow</th>\n",
       "      <td>0.084140</td>\n",
       "      <td>-0.161141</td>\n",
       "      <td>0.238596</td>\n",
       "      <td>0.230033</td>\n",
       "      <td>0.087724</td>\n",
       "      <td>0.083862</td>\n",
       "      <td>0.261002</td>\n",
       "      <td>0.447910</td>\n",
       "      <td>-0.222807</td>\n",
       "      <td>1.000000</td>\n",
       "    </tr>\n",
       "  </tbody>\n",
       "</table>\n",
       "</div>"
      ],
      "text/plain": [
       "                MinTemp   MaxTemp  Rainfall  WindGustSpeed  WindSpeed9am  \\\n",
       "MinTemp        1.000000  0.735048  0.104338       0.178734      0.177856   \n",
       "MaxTemp        0.735048  1.000000 -0.073479       0.068704      0.015470   \n",
       "Rainfall       0.104338 -0.073479  1.000000       0.131602      0.084941   \n",
       "WindGustSpeed  0.178734  0.068704  0.131602       1.000000      0.605117   \n",
       "WindSpeed9am   0.177856  0.015470  0.084941       0.605117      1.000000   \n",
       "WindSpeed3pm   0.177005  0.050694  0.055560       0.685232      0.520129   \n",
       "Humidity9am   -0.233673 -0.506784  0.222593      -0.217565     -0.272990   \n",
       "Humidity3pm    0.008107 -0.508762  0.253426      -0.029475     -0.034096   \n",
       "Pressure3pm   -0.457217 -0.421548 -0.128262      -0.406389     -0.169305   \n",
       "RainTomorrow   0.084140 -0.161141  0.238596       0.230033      0.087724   \n",
       "\n",
       "               WindSpeed3pm  Humidity9am  Humidity3pm  Pressure3pm  \\\n",
       "MinTemp            0.177005    -0.233673     0.008107    -0.457217   \n",
       "MaxTemp            0.050694    -0.506784    -0.508762    -0.421548   \n",
       "Rainfall           0.055560     0.222593     0.253426    -0.128262   \n",
       "WindGustSpeed      0.685232    -0.217565    -0.029475    -0.406389   \n",
       "WindSpeed9am       0.520129    -0.272990    -0.034096    -0.169305   \n",
       "WindSpeed3pm       1.000000    -0.147868     0.014080    -0.250040   \n",
       "Humidity9am       -0.147868     1.000000     0.667699     0.179757   \n",
       "Humidity3pm        0.014080     0.667699     1.000000     0.048068   \n",
       "Pressure3pm       -0.250040     0.179757     0.048068     1.000000   \n",
       "RainTomorrow       0.083862     0.261002     0.447910    -0.222807   \n",
       "\n",
       "               RainTomorrow  \n",
       "MinTemp            0.084140  \n",
       "MaxTemp           -0.161141  \n",
       "Rainfall           0.238596  \n",
       "WindGustSpeed      0.230033  \n",
       "WindSpeed9am       0.087724  \n",
       "WindSpeed3pm       0.083862  \n",
       "Humidity9am        0.261002  \n",
       "Humidity3pm        0.447910  \n",
       "Pressure3pm       -0.222807  \n",
       "RainTomorrow       1.000000  "
      ]
     },
     "execution_count": 14,
     "metadata": {},
     "output_type": "execute_result"
    }
   ],
   "source": [
    "trainYear.corr()"
   ]
  },
  {
   "cell_type": "markdown",
   "metadata": {},
   "source": [
    "From the correlation chart above the remaining features have no really high correlated features left"
   ]
  },
  {
   "cell_type": "markdown",
   "metadata": {},
   "source": [
    "## Outliers "
   ]
  },
  {
   "cell_type": "code",
   "execution_count": 15,
   "metadata": {},
   "outputs": [
    {
     "data": {
      "text/html": [
       "<div>\n",
       "<style scoped>\n",
       "    .dataframe tbody tr th:only-of-type {\n",
       "        vertical-align: middle;\n",
       "    }\n",
       "\n",
       "    .dataframe tbody tr th {\n",
       "        vertical-align: top;\n",
       "    }\n",
       "\n",
       "    .dataframe thead th {\n",
       "        text-align: right;\n",
       "    }\n",
       "</style>\n",
       "<table border=\"1\" class=\"dataframe\">\n",
       "  <thead>\n",
       "    <tr style=\"text-align: right;\">\n",
       "      <th></th>\n",
       "      <th>Date</th>\n",
       "      <th>Location</th>\n",
       "      <th>Season</th>\n",
       "      <th>MinTemp</th>\n",
       "      <th>MaxTemp</th>\n",
       "      <th>Rainfall</th>\n",
       "      <th>WindGustDir</th>\n",
       "      <th>WindGustSpeed</th>\n",
       "      <th>WindDir9am</th>\n",
       "      <th>WindDir3pm</th>\n",
       "      <th>WindSpeed9am</th>\n",
       "      <th>WindSpeed3pm</th>\n",
       "      <th>Humidity9am</th>\n",
       "      <th>Humidity3pm</th>\n",
       "      <th>Pressure3pm</th>\n",
       "      <th>RainToday</th>\n",
       "      <th>RainTomorrow</th>\n",
       "    </tr>\n",
       "  </thead>\n",
       "  <tbody>\n",
       "    <tr>\n",
       "      <th>0</th>\n",
       "      <td>2008-12-01</td>\n",
       "      <td>Southern</td>\n",
       "      <td>Oct-March</td>\n",
       "      <td>13.4</td>\n",
       "      <td>22.9</td>\n",
       "      <td>0.6</td>\n",
       "      <td>W</td>\n",
       "      <td>44.0</td>\n",
       "      <td>W</td>\n",
       "      <td>WNW</td>\n",
       "      <td>20.0</td>\n",
       "      <td>24.0</td>\n",
       "      <td>71.0</td>\n",
       "      <td>22.0</td>\n",
       "      <td>1007.1</td>\n",
       "      <td>No</td>\n",
       "      <td>0</td>\n",
       "    </tr>\n",
       "    <tr>\n",
       "      <th>1</th>\n",
       "      <td>2008-12-02</td>\n",
       "      <td>Southern</td>\n",
       "      <td>Oct-March</td>\n",
       "      <td>7.4</td>\n",
       "      <td>25.1</td>\n",
       "      <td>0.0</td>\n",
       "      <td>WNW</td>\n",
       "      <td>44.0</td>\n",
       "      <td>NNW</td>\n",
       "      <td>WSW</td>\n",
       "      <td>4.0</td>\n",
       "      <td>22.0</td>\n",
       "      <td>44.0</td>\n",
       "      <td>25.0</td>\n",
       "      <td>1007.8</td>\n",
       "      <td>No</td>\n",
       "      <td>0</td>\n",
       "    </tr>\n",
       "    <tr>\n",
       "      <th>2</th>\n",
       "      <td>2008-12-03</td>\n",
       "      <td>Southern</td>\n",
       "      <td>Oct-March</td>\n",
       "      <td>12.9</td>\n",
       "      <td>25.7</td>\n",
       "      <td>0.0</td>\n",
       "      <td>WSW</td>\n",
       "      <td>46.0</td>\n",
       "      <td>W</td>\n",
       "      <td>WSW</td>\n",
       "      <td>19.0</td>\n",
       "      <td>26.0</td>\n",
       "      <td>38.0</td>\n",
       "      <td>30.0</td>\n",
       "      <td>1008.7</td>\n",
       "      <td>No</td>\n",
       "      <td>0</td>\n",
       "    </tr>\n",
       "    <tr>\n",
       "      <th>3</th>\n",
       "      <td>2008-12-04</td>\n",
       "      <td>Southern</td>\n",
       "      <td>Oct-March</td>\n",
       "      <td>9.2</td>\n",
       "      <td>28.0</td>\n",
       "      <td>0.0</td>\n",
       "      <td>NE</td>\n",
       "      <td>24.0</td>\n",
       "      <td>SE</td>\n",
       "      <td>E</td>\n",
       "      <td>11.0</td>\n",
       "      <td>9.0</td>\n",
       "      <td>45.0</td>\n",
       "      <td>16.0</td>\n",
       "      <td>1012.8</td>\n",
       "      <td>No</td>\n",
       "      <td>0</td>\n",
       "    </tr>\n",
       "    <tr>\n",
       "      <th>4</th>\n",
       "      <td>2008-12-05</td>\n",
       "      <td>Southern</td>\n",
       "      <td>Oct-March</td>\n",
       "      <td>17.5</td>\n",
       "      <td>32.3</td>\n",
       "      <td>1.0</td>\n",
       "      <td>W</td>\n",
       "      <td>41.0</td>\n",
       "      <td>ENE</td>\n",
       "      <td>NW</td>\n",
       "      <td>7.0</td>\n",
       "      <td>20.0</td>\n",
       "      <td>82.0</td>\n",
       "      <td>33.0</td>\n",
       "      <td>1006.0</td>\n",
       "      <td>No</td>\n",
       "      <td>0</td>\n",
       "    </tr>\n",
       "  </tbody>\n",
       "</table>\n",
       "</div>"
      ],
      "text/plain": [
       "         Date  Location     Season  MinTemp  MaxTemp  Rainfall WindGustDir  \\\n",
       "0  2008-12-01  Southern  Oct-March     13.4     22.9       0.6           W   \n",
       "1  2008-12-02  Southern  Oct-March      7.4     25.1       0.0         WNW   \n",
       "2  2008-12-03  Southern  Oct-March     12.9     25.7       0.0         WSW   \n",
       "3  2008-12-04  Southern  Oct-March      9.2     28.0       0.0          NE   \n",
       "4  2008-12-05  Southern  Oct-March     17.5     32.3       1.0           W   \n",
       "\n",
       "   WindGustSpeed WindDir9am WindDir3pm  WindSpeed9am  WindSpeed3pm  \\\n",
       "0           44.0          W        WNW          20.0          24.0   \n",
       "1           44.0        NNW        WSW           4.0          22.0   \n",
       "2           46.0          W        WSW          19.0          26.0   \n",
       "3           24.0         SE          E          11.0           9.0   \n",
       "4           41.0        ENE         NW           7.0          20.0   \n",
       "\n",
       "   Humidity9am  Humidity3pm  Pressure3pm RainToday  RainTomorrow  \n",
       "0         71.0         22.0       1007.1        No             0  \n",
       "1         44.0         25.0       1007.8        No             0  \n",
       "2         38.0         30.0       1008.7        No             0  \n",
       "3         45.0         16.0       1012.8        No             0  \n",
       "4         82.0         33.0       1006.0        No             0  "
      ]
     },
     "execution_count": 15,
     "metadata": {},
     "output_type": "execute_result"
    }
   ],
   "source": [
    "trainYearO = trainYear.copy()\n",
    "trainYearO.head()"
   ]
  },
  {
   "cell_type": "code",
   "execution_count": 16,
   "metadata": {},
   "outputs": [],
   "source": [
    "trainYearO.drop(['Date','Location','Season','WindGustDir','WindDir9am','WindDir3pm','RainToday','RainTomorrow'], axis=1, inplace=True)\n",
    "cols = list(trainYearO.columns)"
   ]
  },
  {
   "cell_type": "code",
   "execution_count": 17,
   "metadata": {},
   "outputs": [
    {
     "name": "stdout",
     "output_type": "stream",
     "text": [
      "['MinTemp', 'MaxTemp', 'Rainfall', 'WindGustSpeed', 'WindSpeed9am', 'WindSpeed3pm', 'Humidity9am', 'Humidity3pm', 'Pressure3pm']\n"
     ]
    }
   ],
   "source": [
    "print(cols)"
   ]
  },
  {
   "cell_type": "code",
   "execution_count": 18,
   "metadata": {},
   "outputs": [],
   "source": [
    "for col in cols:\n",
    "    col_zscore = col + '_zscore'\n",
    "    trainYearO[col_zscore] = (trainYearO[col] - trainYearO[col].mean())/trainYearO[col].std(ddof=0)"
   ]
  },
  {
   "cell_type": "code",
   "execution_count": 19,
   "metadata": {},
   "outputs": [],
   "source": [
    "trainYearO.drop(['MinTemp', 'MaxTemp', 'Rainfall', 'WindGustSpeed', 'WindSpeed9am', 'WindSpeed3pm', 'Humidity9am', 'Humidity3pm', 'Pressure3pm'], axis=1, inplace=True)"
   ]
  },
  {
   "cell_type": "code",
   "execution_count": 20,
   "metadata": {},
   "outputs": [
    {
     "data": {
      "image/png": "[encoded data removed]",
      "text/plain": [
       "<Figure size 1440x1080 with 9 Axes>"
      ]
     },
     "metadata": {
      "needs_background": "light"
     },
     "output_type": "display_data"
    }
   ],
   "source": [
    "trainYearO.hist(bins=50,figsize=(20,15))\n",
    "plt.show()"
   ]
  },
  {
   "cell_type": "code",
   "execution_count": 21,
   "metadata": {},
   "outputs": [
    {
     "data": {
      "text/plain": [
       "MinTemp_zscore          1.906218\n",
       "MaxTemp_zscore          0.983131\n",
       "Rainfall_zscore         0.000000\n",
       "WindGustSpeed_zscore    0.212158\n",
       "WindSpeed9am_zscore     0.000000\n",
       "WindSpeed3pm_zscore     0.817408\n",
       "Humidity9am_zscore      3.853267\n",
       "Humidity3pm_zscore      1.364215\n",
       "Pressure3pm_zscore      1.865388\n",
       "dtype: float64"
      ]
     },
     "execution_count": 21,
     "metadata": {},
     "output_type": "execute_result"
    }
   ],
   "source": [
    "(trainYearO < -2.0).mean(axis = 0) * 100"
   ]
  },
  {
   "cell_type": "code",
   "execution_count": 22,
   "metadata": {},
   "outputs": [
    {
     "data": {
      "text/plain": [
       "MinTemp_zscore          1.775721\n",
       "MaxTemp_zscore          2.819698\n",
       "Rainfall_zscore         2.902960\n",
       "WindGustSpeed_zscore    3.761198\n",
       "WindSpeed9am_zscore     3.089499\n",
       "WindSpeed3pm_zscore     3.460174\n",
       "Humidity9am_zscore      0.000000\n",
       "Humidity3pm_zscore      2.249674\n",
       "Pressure3pm_zscore      2.137590\n",
       "dtype: float64"
      ]
     },
     "execution_count": 22,
     "metadata": {},
     "output_type": "execute_result"
    }
   ],
   "source": [
    "(trainYearO > 2.0).mean(axis = 0) * 100"
   ]
  },
  {
   "cell_type": "markdown",
   "metadata": {},
   "source": [
    "Looking at the data, it shows more than 95% of the standardized scores fall withim -/+2, I will not be removing outliers and accept the data to be within normality for this experiment."
   ]
  },
  {
   "cell_type": "markdown",
   "metadata": {},
   "source": [
    "# Feature Selection, Transformation & Engineering"
   ]
  },
  {
   "cell_type": "markdown",
   "metadata": {},
   "source": [
    "Unfortunately, I didn't have a weather specialist to rate my decisions on feature engineering, So instead, I will reduce the cardinality of the Cardinal points by assigning the intercardinal points to the respective points of North, South, East or West. I removed the RainToday column as I concluded the Rainfall column was satisfactory which I will visualise below.\n",
    "\n",
    "The continous features were Normalized to a range of 0 to 1. This ensure each continous feature is on the same scale, as no information has been given on a particular feature being more important.\n",
    "\n",
    "Missing data for continous features were imputed using the mean, while categorical features were imputed using the mode."
   ]
  },
  {
   "cell_type": "markdown",
   "metadata": {},
   "source": [
    "## Rain Today Feature"
   ]
  },
  {
   "cell_type": "code",
   "execution_count": 23,
   "metadata": {},
   "outputs": [
    {
     "data": {
      "image/png": "[encoded data removed]",
      "text/plain": [
       "<Figure size 1440x360 with 1 Axes>"
      ]
     },
     "metadata": {
      "needs_background": "light"
     },
     "output_type": "display_data"
    },
    {
     "name": "stdout",
     "output_type": "stream",
     "text": [
      "Maximum Rainfall when RainToday is No:  1.0\n"
     ]
    }
   ],
   "source": [
    "trainYear['Rainfall'][trainYear['RainToday']=='No'].hist(bins=50,figsize=(20,5))\n",
    "plt.show()\n",
    "print('Maximum Rainfall when RainToday is No: ',trainYear['Rainfall'][trainYear['RainToday']=='No'].max())"
   ]
  },
  {
   "cell_type": "code",
   "execution_count": 24,
   "metadata": {},
   "outputs": [
    {
     "data": {
      "image/png": "[encoded data removed]",
      "text/plain": [
       "<Figure size 1440x360 with 1 Axes>"
      ]
     },
     "metadata": {
      "needs_background": "light"
     },
     "output_type": "display_data"
    },
    {
     "name": "stdout",
     "output_type": "stream",
     "text": [
      "Minimum Rainfall when RainToday is Yes:  1.1\n"
     ]
    }
   ],
   "source": [
    "trainYear['Rainfall'][trainYear['RainToday']=='Yes'].hist(bins=50,figsize=(20,5))\n",
    "plt.show()\n",
    "print('Minimum Rainfall when RainToday is Yes: ',trainYear['Rainfall'][trainYear['RainToday']=='Yes'].min())"
   ]
  },
  {
   "cell_type": "markdown",
   "metadata": {},
   "source": [
    "Both also have equal proportions of Missing Data"
   ]
  },
  {
   "cell_type": "code",
   "execution_count": 25,
   "metadata": {},
   "outputs": [
    {
     "name": "stdout",
     "output_type": "stream",
     "text": [
      "Rainfall     0.971923\n",
      "RainToday    0.971923\n",
      "dtype: float64\n",
      "Rainfall     1.110725\n",
      "RainToday    1.110725\n",
      "dtype: float64\n"
     ]
    }
   ],
   "source": [
    "print(trainYear[['Rainfall','RainToday']].isnull().mean(axis = 0) * 100)\n",
    "print(testYear[['Rainfall','RainToday']].isnull().mean(axis = 0) * 100)"
   ]
  },
  {
   "cell_type": "markdown",
   "metadata": {},
   "source": [
    "So these two features are very much the same only one is continous and the other is categorical.. Based on that, I'm removing the categorical RainToday feature in favour of the continous feature rainfall"
   ]
  },
  {
   "cell_type": "code",
   "execution_count": 26,
   "metadata": {},
   "outputs": [],
   "source": [
    "trainYear.drop(['RainToday'], axis=1, inplace=True)\n",
    "testYear.drop(['RainToday'], axis=1, inplace=True)"
   ]
  },
  {
   "cell_type": "markdown",
   "metadata": {},
   "source": [
    "## Use sklearns scaler function to scale the continous features"
   ]
  },
  {
   "cell_type": "code",
   "execution_count": 27,
   "metadata": {},
   "outputs": [
    {
     "data": {
      "image/png": "[encoded data removed]",
      "text/plain": [
       "<Figure size 1440x1080 with 12 Axes>"
      ]
     },
     "metadata": {
      "needs_background": "light"
     },
     "output_type": "display_data"
    }
   ],
   "source": [
    "trainYear.hist(bins=50,figsize=(20,15))\n",
    "plt.show()"
   ]
  },
  {
   "cell_type": "markdown",
   "metadata": {},
   "source": [
    "The continous features have varying measures and I felt scaling them would improve the performance of the models.\n",
    "\n",
    "MinMaxScaler was used to Normalize all features to a scale of 0 to 1. This will ensure all features are on the same scale and non can exert greater influence due to a difference in scale."
   ]
  },
  {
   "cell_type": "code",
   "execution_count": 28,
   "metadata": {},
   "outputs": [
    {
     "data": {
      "text/plain": [
       "MinMaxScaler(copy=True, feature_range=(0, 1))"
      ]
     },
     "execution_count": 28,
     "metadata": {},
     "output_type": "execute_result"
    }
   ],
   "source": [
    "scaler_Humidity9am = MinMaxScaler()\n",
    "scaler_Humidity9am.fit(trainYear.Humidity9am.to_numpy().reshape(-1,1))\n",
    "\n",
    "scaler_Humidity3pm = MinMaxScaler()\n",
    "scaler_Humidity3pm.fit(trainYear.Humidity3pm.to_numpy().reshape(-1,1))\n",
    "\n",
    "scaler_WindSpeed9am = MinMaxScaler()\n",
    "scaler_WindSpeed9am.fit(trainYear.WindSpeed9am.to_numpy().reshape(-1,1))\n",
    "\n",
    "scaler_WindSpeed3pm = MinMaxScaler()\n",
    "scaler_WindSpeed3pm.fit(trainYear.WindSpeed3pm.to_numpy().reshape(-1,1))\n",
    "\n",
    "scaler_WindGustSpeed = MinMaxScaler()\n",
    "scaler_WindGustSpeed.fit(trainYear.WindGustSpeed.to_numpy().reshape(-1,1))\n",
    "\n",
    "scaler_Rainfall = MinMaxScaler()\n",
    "scaler_Rainfall.fit(trainYear.Rainfall.to_numpy().reshape(-1,1))\n",
    "\n",
    "scaler_MaxTemp = MinMaxScaler()\n",
    "scaler_MaxTemp.fit(trainYear.MaxTemp.to_numpy().reshape(-1,1))\n",
    "\n",
    "scaler_MinTemp = MinMaxScaler()\n",
    "scaler_MinTemp.fit(trainYear.MinTemp.to_numpy().reshape(-1,1))\n",
    "\n",
    "scaler_Pressure3pm = MinMaxScaler()\n",
    "scaler_Pressure3pm.fit(trainYear.Pressure3pm.to_numpy().reshape(-1,1))"
   ]
  },
  {
   "cell_type": "code",
   "execution_count": 29,
   "metadata": {},
   "outputs": [],
   "source": [
    "scaled_Humidity9am = scaler_Humidity9am.transform(trainYear.Humidity9am.to_numpy().reshape(-1,1))\n",
    "scaled_Humidity3pm = scaler_Humidity3pm.transform(trainYear.Humidity3pm.to_numpy().reshape(-1,1))\n",
    "scaled_WindSpeed9am = scaler_WindSpeed9am.transform(trainYear.WindSpeed9am.to_numpy().reshape(-1,1))\n",
    "scaled_WindSpeed3pm = scaler_WindSpeed3pm.transform(trainYear.WindSpeed3pm.to_numpy().reshape(-1,1))\n",
    "scaled_WindGustSpeed = scaler_WindGustSpeed.transform(trainYear.WindGustSpeed.to_numpy().reshape(-1,1))\n",
    "scaled_Rainfall = scaler_Rainfall.transform(trainYear.Rainfall.to_numpy().reshape(-1,1))\n",
    "scaled_MaxTemp = scaler_MaxTemp.transform(trainYear.MaxTemp.to_numpy().reshape(-1,1))\n",
    "scaled_minTemp = scaler_MinTemp.transform(trainYear.MinTemp.to_numpy().reshape(-1,1))\n",
    "scaled_Pressure3pm = scaler_Pressure3pm.transform(trainYear.Pressure3pm.to_numpy().reshape(-1,1))"
   ]
  },
  {
   "cell_type": "code",
   "execution_count": 30,
   "metadata": {},
   "outputs": [],
   "source": [
    "trainYear.Humidity9am = scaled_Humidity9am\n",
    "trainYear.Humidity3pm = scaled_Humidity3pm\n",
    "trainYear.WindSpeed9am = scaled_WindSpeed9am\n",
    "trainYear.WindSpeed3pm = scaled_WindSpeed3pm\n",
    "trainYear.WindGustSpeed = scaled_WindGustSpeed\n",
    "trainYear.Rainfall = scaled_Rainfall\n",
    "trainYear.MaxTemp = scaled_MaxTemp\n",
    "trainYear.MinTemp = scaled_minTemp\n",
    "trainYear.Pressure3pm = scaled_Pressure3pm"
   ]
  },
  {
   "cell_type": "markdown",
   "metadata": {},
   "source": [
    "# Scale the test set based on the train set"
   ]
  },
  {
   "cell_type": "code",
   "execution_count": 31,
   "metadata": {},
   "outputs": [],
   "source": [
    "test_scaled_Humidity9am = scaler_Humidity9am.transform(testYear.Humidity9am.to_numpy().reshape(-1,1))\n",
    "test_scaled_Humidity3pm = scaler_Humidity3pm.transform(testYear.Humidity3pm.to_numpy().reshape(-1,1))\n",
    "test_scaled_WindSpeed9am = scaler_WindSpeed9am.transform(testYear.WindSpeed9am.to_numpy().reshape(-1,1))\n",
    "test_scaled_WindSpeed3pm = scaler_WindSpeed3pm.transform(testYear.WindSpeed3pm.to_numpy().reshape(-1,1))\n",
    "test_scaled_WindGustSpeed = scaler_WindGustSpeed.transform(testYear.WindGustSpeed.to_numpy().reshape(-1,1))\n",
    "test_scaled_Rainfall = scaler_Rainfall.transform(testYear.Rainfall.to_numpy().reshape(-1,1))\n",
    "test_scaled_MaxTemp = scaler_MaxTemp.transform(testYear.MaxTemp.to_numpy().reshape(-1,1))\n",
    "test_scaled_minTemp = scaler_MinTemp.transform(testYear.MinTemp.to_numpy().reshape(-1,1))\n",
    "test_scaled_Pressure3pm = scaler_MaxTemp.transform(testYear.Pressure3pm.to_numpy().reshape(-1,1))"
   ]
  },
  {
   "cell_type": "code",
   "execution_count": 32,
   "metadata": {},
   "outputs": [],
   "source": [
    "testYear.Humidity9am = test_scaled_Humidity9am\n",
    "testYear.Humidity3pm = test_scaled_Humidity3pm\n",
    "testYear.WindSpeed9am = test_scaled_WindSpeed9am\n",
    "testYear.WindSpeed3pm = test_scaled_WindSpeed3pm\n",
    "testYear.WindGustSpeed = test_scaled_WindGustSpeed\n",
    "testYear.Rainfall = test_scaled_Rainfall\n",
    "testYear.MaxTemp = test_scaled_MaxTemp\n",
    "testYear.MinTemp = test_scaled_minTemp\n",
    "testYear.Pressure3pm = test_scaled_Pressure3pm"
   ]
  },
  {
   "cell_type": "markdown",
   "metadata": {},
   "source": [
    "# Use sklearns imputer function to impute the missing categorical values based on mode"
   ]
  },
  {
   "cell_type": "code",
   "execution_count": 33,
   "metadata": {},
   "outputs": [
    {
     "data": {
      "text/plain": [
       "Date             0.000000\n",
       "Location         0.000000\n",
       "Season           0.000000\n",
       "MinTemp          0.415509\n",
       "MaxTemp          0.210557\n",
       "Rainfall         0.971923\n",
       "WindGustDir      6.680971\n",
       "WindGustSpeed    6.632935\n",
       "WindDir9am       7.216569\n",
       "WindDir3pm       2.374567\n",
       "WindSpeed9am     1.013554\n",
       "WindSpeed3pm     1.515528\n",
       "Humidity9am      1.234518\n",
       "Humidity3pm      1.930236\n",
       "Pressure3pm      9.767267\n",
       "RainTomorrow     0.000000\n",
       "dtype: float64"
      ]
     },
     "execution_count": 33,
     "metadata": {},
     "output_type": "execute_result"
    }
   ],
   "source": [
    "trainYear.isnull().mean(axis = 0) * 100"
   ]
  },
  {
   "cell_type": "code",
   "execution_count": 34,
   "metadata": {},
   "outputs": [
    {
     "data": {
      "text/plain": [
       "Date              0.000000\n",
       "Location          0.000000\n",
       "Season            0.000000\n",
       "MinTemp           0.682633\n",
       "MaxTemp           0.341317\n",
       "Rainfall          1.110725\n",
       "WindGustDir       5.698253\n",
       "WindGustSpeed     5.698253\n",
       "WindDir9am        5.779243\n",
       "WindDir3pm        4.697443\n",
       "WindSpeed9am      0.474372\n",
       "WindSpeed3pm      4.263566\n",
       "Humidity9am       1.342127\n",
       "Humidity3pm       6.936249\n",
       "Pressure3pm      10.303135\n",
       "RainTomorrow      0.000000\n",
       "dtype: float64"
      ]
     },
     "execution_count": 34,
     "metadata": {},
     "output_type": "execute_result"
    }
   ],
   "source": [
    "testYear.isnull().mean(axis = 0) * 100"
   ]
  },
  {
   "cell_type": "code",
   "execution_count": 35,
   "metadata": {},
   "outputs": [
    {
     "data": {
      "text/plain": [
       "SimpleImputer(copy=True, fill_value=None, missing_values=nan,\n",
       "       strategy='most_frequent', verbose=0)"
      ]
     },
     "execution_count": 35,
     "metadata": {},
     "output_type": "execute_result"
    }
   ],
   "source": [
    "imp_gustDir = SimpleImputer(missing_values=np.nan, strategy='most_frequent')\n",
    "imp_gustDir.fit(trainYear.WindGustDir.to_numpy().reshape(-1,1))\n",
    "\n",
    "imp_Dir3pm = SimpleImputer(missing_values=np.nan, strategy='most_frequent')\n",
    "imp_Dir3pm.fit(trainYear.WindDir3pm.to_numpy().reshape(-1,1))\n",
    "\n",
    "imp_Dir9am = SimpleImputer(missing_values=np.nan, strategy='most_frequent')\n",
    "imp_Dir9am.fit(trainYear.WindDir9am.to_numpy().reshape(-1,1))"
   ]
  },
  {
   "cell_type": "code",
   "execution_count": 36,
   "metadata": {},
   "outputs": [],
   "source": [
    "#Impute train data\n",
    "gustDir = imp_gustDir.transform(trainYear.WindGustDir.to_numpy().reshape(-1,1))\n",
    "Dir3pm = imp_Dir3pm.transform(trainYear.WindDir3pm.to_numpy().reshape(-1,1))\n",
    "Dir9am = imp_Dir9am.transform(trainYear.WindDir9am.to_numpy().reshape(-1,1))\n",
    "\n",
    "#Impute test data based on train data\n",
    "test_gustDir = imp_gustDir.transform(testYear.WindGustDir.to_numpy().reshape(-1,1))\n",
    "test_Dir3pm = imp_Dir3pm.transform(testYear.WindDir3pm.to_numpy().reshape(-1,1))\n",
    "test_Dir9am = imp_Dir9am.transform(testYear.WindDir9am.to_numpy().reshape(-1,1))"
   ]
  },
  {
   "cell_type": "code",
   "execution_count": 37,
   "metadata": {},
   "outputs": [],
   "source": [
    "trainYear.WindGustDir = gustDir\n",
    "trainYear.WindDir3pm = Dir3pm\n",
    "trainYear.WindDir9am = Dir9am\n",
    "\n",
    "testYear.WindGustDir = test_gustDir\n",
    "testYear.WindDir3pm = test_Dir3pm\n",
    "testYear.WindDir9am = test_Dir9am"
   ]
  },
  {
   "cell_type": "markdown",
   "metadata": {},
   "source": [
    "# Cardinal Point"
   ]
  },
  {
   "cell_type": "markdown",
   "metadata": {},
   "source": [
    "The Cardinal categories are reduced to North South East & West. They can't be treated as continous features and using them as is with dummy variables with the number of instances wouldn't benefit the models, as there are the categorical cardinal point features each with 18 cardinal points. encoding that would mean atleast 33 new features. Also, I have not found any resource stating the intercardinal value has a great effect in determining if it will rain"
   ]
  },
  {
   "cell_type": "code",
   "execution_count": 38,
   "metadata": {
    "scrolled": true
   },
   "outputs": [
    {
     "data": {
      "text/plain": [
       "<matplotlib.axes._subplots.AxesSubplot at 0x1d482ffe438>"
      ]
     },
     "execution_count": 38,
     "metadata": {},
     "output_type": "execute_result"
    },
    {
     "data": {
      "image/png": "[encoded data removed]",
      "text/plain": [
       "<Figure size 432x288 with 1 Axes>"
      ]
     },
     "metadata": {
      "needs_background": "light"
     },
     "output_type": "display_data"
    }
   ],
   "source": [
    "trainYear['WindDir3pm'].value_counts().plot(kind='bar')"
   ]
  },
  {
   "cell_type": "code",
   "execution_count": 39,
   "metadata": {},
   "outputs": [
    {
     "data": {
      "text/plain": [
       "<matplotlib.axes._subplots.AxesSubplot at 0x1d4815c3f98>"
      ]
     },
     "execution_count": 39,
     "metadata": {},
     "output_type": "execute_result"
    },
    {
     "data": {
      "image/png": "[encoded data removed]",
      "text/plain": [
       "<Figure size 432x288 with 1 Axes>"
      ]
     },
     "metadata": {
      "needs_background": "light"
     },
     "output_type": "display_data"
    }
   ],
   "source": [
    "trainYear['WindDir9am'].value_counts().plot(kind='bar')"
   ]
  },
  {
   "cell_type": "code",
   "execution_count": 40,
   "metadata": {},
   "outputs": [
    {
     "data": {
      "text/plain": [
       "<matplotlib.axes._subplots.AxesSubplot at 0x1d4815d4710>"
      ]
     },
     "execution_count": 40,
     "metadata": {},
     "output_type": "execute_result"
    },
    {
     "data": {
      "image/png": "[encoded data removed]",
      "text/plain": [
       "<Figure size 432x288 with 1 Axes>"
      ]
     },
     "metadata": {
      "needs_background": "light"
     },
     "output_type": "display_data"
    }
   ],
   "source": [
    "trainYear['WindGustDir'].value_counts().plot(kind='bar')"
   ]
  },
  {
   "cell_type": "markdown",
   "metadata": {},
   "source": [
    "# Reduce Cardinal Points to N, S, E & W"
   ]
  },
  {
   "cell_type": "code",
   "execution_count": 41,
   "metadata": {},
   "outputs": [],
   "source": [
    "trainYear['WindGustDir'] = trainYear['WindGustDir'].astype(str).str[0]\n",
    "trainYear['WindDir3pm'] = trainYear['WindDir3pm'].astype(str).str[0]\n",
    "trainYear['WindDir9am'] = trainYear['WindDir9am'].astype(str).str[0]"
   ]
  },
  {
   "cell_type": "code",
   "execution_count": 42,
   "metadata": {},
   "outputs": [
    {
     "data": {
      "text/plain": [
       "<matplotlib.axes._subplots.AxesSubplot at 0x1d48144bf28>"
      ]
     },
     "execution_count": 42,
     "metadata": {},
     "output_type": "execute_result"
    },
    {
     "data": {
      "image/png": "[encoded data removed]",
      "text/plain": [
       "<Figure size 432x288 with 1 Axes>"
      ]
     },
     "metadata": {
      "needs_background": "light"
     },
     "output_type": "display_data"
    }
   ],
   "source": [
    "trainYear['WindGustDir'].value_counts().plot(kind='bar')"
   ]
  },
  {
   "cell_type": "code",
   "execution_count": 43,
   "metadata": {},
   "outputs": [
    {
     "data": {
      "text/plain": [
       "<matplotlib.axes._subplots.AxesSubplot at 0x1d48367e198>"
      ]
     },
     "execution_count": 43,
     "metadata": {},
     "output_type": "execute_result"
    },
    {
     "data": {
      "image/png": "[encoded data removed]",
      "text/plain": [
       "<Figure size 432x288 with 1 Axes>"
      ]
     },
     "metadata": {
      "needs_background": "light"
     },
     "output_type": "display_data"
    }
   ],
   "source": [
    "trainYear['WindDir9am'].value_counts().plot(kind='bar')"
   ]
  },
  {
   "cell_type": "code",
   "execution_count": 44,
   "metadata": {},
   "outputs": [
    {
     "data": {
      "text/plain": [
       "<matplotlib.axes._subplots.AxesSubplot at 0x1d481573668>"
      ]
     },
     "execution_count": 44,
     "metadata": {},
     "output_type": "execute_result"
    },
    {
     "data": {
      "image/png": "[encoded data removed]",
      "text/plain": [
       "<Figure size 432x288 with 1 Axes>"
      ]
     },
     "metadata": {
      "needs_background": "light"
     },
     "output_type": "display_data"
    }
   ],
   "source": [
    "trainYear['WindDir3pm'].value_counts().plot(kind='bar')"
   ]
  },
  {
   "cell_type": "code",
   "execution_count": 45,
   "metadata": {},
   "outputs": [],
   "source": [
    "testYear['WindGustDir'] = testYear['WindGustDir'].astype(str).str[0]\n",
    "testYear['WindDir3pm'] = testYear['WindDir3pm'].astype(str).str[0]\n",
    "testYear['WindDir9am'] = testYear['WindDir9am'].astype(str).str[0]"
   ]
  },
  {
   "cell_type": "markdown",
   "metadata": {},
   "source": [
    "# Impute Continous Feature"
   ]
  },
  {
   "cell_type": "code",
   "execution_count": 46,
   "metadata": {},
   "outputs": [
    {
     "data": {
      "text/plain": [
       "SimpleImputer(copy=True, fill_value=None, missing_values=nan, strategy='mean',\n",
       "       verbose=0)"
      ]
     },
     "execution_count": 46,
     "metadata": {},
     "output_type": "execute_result"
    }
   ],
   "source": [
    "imp_Humidity9am = SimpleImputer(missing_values=np.nan, strategy='mean')\n",
    "imp_Humidity9am.fit(trainYear.Humidity9am.to_numpy().reshape(-1,1))\n",
    "\n",
    "imp_Humidity3pm = SimpleImputer(missing_values=np.nan, strategy='mean')\n",
    "imp_Humidity3pm.fit(trainYear.Humidity3pm.to_numpy().reshape(-1,1))\n",
    "\n",
    "imp_WindSpeed9am = SimpleImputer(missing_values=np.nan, strategy='mean')\n",
    "imp_WindSpeed9am.fit(trainYear.WindSpeed9am.to_numpy().reshape(-1,1))\n",
    "\n",
    "imp_WindSpeed3pm = SimpleImputer(missing_values=np.nan, strategy='mean')\n",
    "imp_WindSpeed3pm.fit(trainYear.WindSpeed3pm.to_numpy().reshape(-1,1))\n",
    "\n",
    "imp_WindGustSpeed = SimpleImputer(missing_values=np.nan, strategy='mean')\n",
    "imp_WindGustSpeed.fit(trainYear.WindGustSpeed.to_numpy().reshape(-1,1))\n",
    "\n",
    "imp_Rainfall = SimpleImputer(missing_values=np.nan, strategy='mean')\n",
    "imp_Rainfall.fit(trainYear.Rainfall.to_numpy().reshape(-1,1))\n",
    "\n",
    "imp_MaxTemp = SimpleImputer(missing_values=np.nan, strategy='mean')\n",
    "imp_MaxTemp.fit(trainYear.MaxTemp.to_numpy().reshape(-1,1))\n",
    "\n",
    "imp_MinTemp = SimpleImputer(missing_values=np.nan, strategy='mean')\n",
    "imp_MinTemp.fit(trainYear.MinTemp.to_numpy().reshape(-1,1))\n",
    "\n",
    "imp_Pressure3pm = SimpleImputer(missing_values=np.nan, strategy='mean')\n",
    "imp_Pressure3pm.fit(trainYear.Pressure3pm.to_numpy().reshape(-1,1))"
   ]
  },
  {
   "cell_type": "code",
   "execution_count": 47,
   "metadata": {},
   "outputs": [],
   "source": [
    "#imputed Traind Data Values\n",
    "Humidity9am = imp_Humidity9am.transform(trainYear.Humidity9am.to_numpy().reshape(-1,1))\n",
    "Humidity3pm = imp_Humidity3pm.transform(trainYear.Humidity3pm.to_numpy().reshape(-1,1))\n",
    "WindSpeed9am = imp_WindSpeed9am.transform(trainYear.WindSpeed9am.to_numpy().reshape(-1,1))\n",
    "WindSpeed3pm = imp_WindSpeed3pm.transform(trainYear.WindSpeed3pm.to_numpy().reshape(-1,1))\n",
    "WindGustSpeed = imp_WindGustSpeed.transform(trainYear.WindGustSpeed.to_numpy().reshape(-1,1))\n",
    "Rainfall = imp_Rainfall.transform(trainYear.Rainfall.to_numpy().reshape(-1,1))\n",
    "MaxTemp = imp_MaxTemp.transform(trainYear.MaxTemp.to_numpy().reshape(-1,1))\n",
    "minTemp = imp_MinTemp.transform(trainYear.MinTemp.to_numpy().reshape(-1,1))\n",
    "press3pm = imp_Pressure3pm.transform(trainYear.Pressure3pm.to_numpy().reshape(-1,1))\n",
    "\n",
    "#imputed Test Data Values\n",
    "test_Humidity9am = imp_Humidity9am.transform(testYear.Humidity9am.to_numpy().reshape(-1,1))\n",
    "test_Humidity3pm = imp_Humidity3pm.transform(testYear.Humidity3pm.to_numpy().reshape(-1,1))\n",
    "test_WindSpeed9am = imp_WindSpeed9am.transform(testYear.WindSpeed9am.to_numpy().reshape(-1,1))\n",
    "test_WindSpeed3pm = imp_WindSpeed3pm.transform(testYear.WindSpeed3pm.to_numpy().reshape(-1,1))\n",
    "test_WindGustSpeed = imp_WindGustSpeed.transform(testYear.WindGustSpeed.to_numpy().reshape(-1,1))\n",
    "test_Rainfall = imp_Rainfall.transform(testYear.Rainfall.to_numpy().reshape(-1,1))\n",
    "test_MaxTemp = imp_MaxTemp.transform(testYear.MaxTemp.to_numpy().reshape(-1,1))\n",
    "test_minTemp = imp_MinTemp.transform(testYear.MinTemp.to_numpy().reshape(-1,1))\n",
    "test_press3pm = imp_Pressure3pm.transform(testYear.Pressure3pm.to_numpy().reshape(-1,1))"
   ]
  },
  {
   "cell_type": "code",
   "execution_count": 48,
   "metadata": {},
   "outputs": [],
   "source": [
    "#assign imputed values to train data\n",
    "trainYear.Humidity9am = Humidity9am\n",
    "trainYear.Humidity3pm = Humidity3pm\n",
    "trainYear.WindSpeed9am = WindSpeed9am\n",
    "trainYear.WindSpeed3pm = WindSpeed3pm\n",
    "trainYear.WindGustSpeed = WindGustSpeed\n",
    "trainYear.Rainfall = Rainfall\n",
    "trainYear.MaxTemp = MaxTemp\n",
    "trainYear.MinTemp = minTemp\n",
    "trainYear.Pressure3pm = press3pm\n",
    "\n",
    "#assign imputed values to test data\n",
    "testYear.Humidity9am = test_Humidity9am\n",
    "testYear.Humidity3pm = test_Humidity3pm\n",
    "testYear.WindSpeed9am = test_WindSpeed9am\n",
    "testYear.WindSpeed3pm = test_WindSpeed3pm\n",
    "testYear.WindGustSpeed = test_WindGustSpeed\n",
    "testYear.Rainfall = test_Rainfall\n",
    "testYear.MaxTemp = test_MaxTemp\n",
    "testYear.MinTemp = test_minTemp\n",
    "testYear.Pressure3pm = test_press3pm"
   ]
  },
  {
   "cell_type": "markdown",
   "metadata": {},
   "source": [
    "# Missing Data Treated"
   ]
  },
  {
   "cell_type": "code",
   "execution_count": 49,
   "metadata": {},
   "outputs": [
    {
     "data": {
      "text/plain": [
       "Date             0.0\n",
       "Location         0.0\n",
       "Season           0.0\n",
       "MinTemp          0.0\n",
       "MaxTemp          0.0\n",
       "Rainfall         0.0\n",
       "WindGustDir      0.0\n",
       "WindGustSpeed    0.0\n",
       "WindDir9am       0.0\n",
       "WindDir3pm       0.0\n",
       "WindSpeed9am     0.0\n",
       "WindSpeed3pm     0.0\n",
       "Humidity9am      0.0\n",
       "Humidity3pm      0.0\n",
       "Pressure3pm      0.0\n",
       "RainTomorrow     0.0\n",
       "dtype: float64"
      ]
     },
     "execution_count": 49,
     "metadata": {},
     "output_type": "execute_result"
    }
   ],
   "source": [
    "trainYear.isnull().mean(axis = 0) * 100"
   ]
  },
  {
   "cell_type": "code",
   "execution_count": 50,
   "metadata": {},
   "outputs": [
    {
     "data": {
      "text/plain": [
       "Date             0.0\n",
       "Location         0.0\n",
       "Season           0.0\n",
       "MinTemp          0.0\n",
       "MaxTemp          0.0\n",
       "Rainfall         0.0\n",
       "WindGustDir      0.0\n",
       "WindGustSpeed    0.0\n",
       "WindDir9am       0.0\n",
       "WindDir3pm       0.0\n",
       "WindSpeed9am     0.0\n",
       "WindSpeed3pm     0.0\n",
       "Humidity9am      0.0\n",
       "Humidity3pm      0.0\n",
       "Pressure3pm      0.0\n",
       "RainTomorrow     0.0\n",
       "dtype: float64"
      ]
     },
     "execution_count": 50,
     "metadata": {},
     "output_type": "execute_result"
    }
   ],
   "source": [
    "testYear.isnull().mean(axis = 0) * 100"
   ]
  },
  {
   "cell_type": "code",
   "execution_count": 51,
   "metadata": {},
   "outputs": [
    {
     "data": {
      "image/png": "[encoded data removed]",
      "text/plain": [
       "<Figure size 1440x1080 with 12 Axes>"
      ]
     },
     "metadata": {
      "needs_background": "light"
     },
     "output_type": "display_data"
    }
   ],
   "source": [
    "trainYear.hist(bins=50,figsize=(20,15))\n",
    "plt.show()"
   ]
  },
  {
   "cell_type": "markdown",
   "metadata": {},
   "source": [
    "# Final Data Prep and Storing"
   ]
  },
  {
   "cell_type": "code",
   "execution_count": 52,
   "metadata": {},
   "outputs": [],
   "source": [
    "trainYearTarget = trainYear['RainTomorrow']\n",
    "testYearTarget = testYear['RainTomorrow']\n",
    "trainYearFeatures = trainYear.drop(['Date','RainTomorrow'], axis=1).copy()\n",
    "testYearFeatures = testYear.drop(['Date','RainTomorrow'], axis=1).copy()"
   ]
  },
  {
   "cell_type": "code",
   "execution_count": 53,
   "metadata": {},
   "outputs": [],
   "source": [
    "trainYearFeatures = pd.get_dummies(trainYearFeatures,drop_first=True)\n",
    "testYearFeatures = pd.get_dummies(testYearFeatures,drop_first=True)"
   ]
  },
  {
   "cell_type": "code",
   "execution_count": 54,
   "metadata": {},
   "outputs": [
    {
     "data": {
      "text/plain": [
       "Index(['MinTemp', 'MaxTemp', 'Rainfall', 'WindGustSpeed', 'WindSpeed9am',\n",
       "       'WindSpeed3pm', 'Humidity9am', 'Humidity3pm', 'Pressure3pm',\n",
       "       'Location_Southern', 'Season_Oct-March', 'WindGustDir_N',\n",
       "       'WindGustDir_S', 'WindGustDir_W', 'WindDir9am_N', 'WindDir9am_S',\n",
       "       'WindDir9am_W', 'WindDir3pm_N', 'WindDir3pm_S', 'WindDir3pm_W'],\n",
       "      dtype='object')"
      ]
     },
     "execution_count": 54,
     "metadata": {},
     "output_type": "execute_result"
    }
   ],
   "source": [
    "trainYearFeatures.columns"
   ]
  },
  {
   "cell_type": "code",
   "execution_count": 55,
   "metadata": {},
   "outputs": [
    {
     "data": {
      "text/plain": [
       "Index(['MinTemp', 'MaxTemp', 'Rainfall', 'WindGustSpeed', 'WindSpeed9am',\n",
       "       'WindSpeed3pm', 'Humidity9am', 'Humidity3pm', 'Pressure3pm',\n",
       "       'Location_Southern', 'Season_Oct-March', 'WindGustDir_N',\n",
       "       'WindGustDir_S', 'WindGustDir_W', 'WindDir9am_N', 'WindDir9am_S',\n",
       "       'WindDir9am_W', 'WindDir3pm_N', 'WindDir3pm_S', 'WindDir3pm_W'],\n",
       "      dtype='object')"
      ]
     },
     "execution_count": 55,
     "metadata": {},
     "output_type": "execute_result"
    }
   ],
   "source": [
    "testYearFeatures.columns"
   ]
  },
  {
   "cell_type": "markdown",
   "metadata": {},
   "source": [
    "## Oversampling and Undersampling"
   ]
  },
  {
   "cell_type": "markdown",
   "metadata": {},
   "source": [
    "I would like to investigate the effect oversampling and undersampling the Training set has on the model predcting the test data. Hence Just simple oversampling and undersampling will suffice."
   ]
  },
  {
   "cell_type": "code",
   "execution_count": 56,
   "metadata": {},
   "outputs": [
    {
     "name": "stdout",
     "output_type": "stream",
     "text": [
      "[97036 97036]\n",
      "[27871 27871]\n",
      "[97036 27871]\n"
     ]
    }
   ],
   "source": [
    "ros = RandomOverSampler(random_state=66)\n",
    "trainYearFeaturesOver, yTrainOver = ros.fit_sample(trainYearFeatures, trainYearTarget)\n",
    "\n",
    "rus = RandomUnderSampler(random_state=66)\n",
    "trainYearFeaturesUnder, yTrainUnder = rus.fit_sample(trainYearFeatures, trainYearTarget)\n",
    "\n",
    "print(np.bincount(yTrainOver))\n",
    "print(np.bincount(yTrainUnder))\n",
    "print(np.bincount(trainYearTarget))"
   ]
  },
  {
   "cell_type": "code",
   "execution_count": 57,
   "metadata": {},
   "outputs": [],
   "source": [
    "trainYearFeaturesOver = pd.DataFrame(trainYearFeaturesOver, columns=trainYearFeatures.columns)\n",
    "trainYearFeaturesUnder = pd.DataFrame(trainYearFeaturesUnder, columns=trainYearFeatures.columns)"
   ]
  },
  {
   "cell_type": "code",
   "execution_count": 58,
   "metadata": {},
   "outputs": [],
   "source": [
    "# Create file\n",
    "h5f = h5py.File('task1data/Final_Final_dataset.h5', 'w')\n",
    "\n",
    "# Store the datasets\n",
    "h5f.create_dataset('X_train', data=trainYearFeatures)\n",
    "h5f.create_dataset('X_test', data=testYearFeatures)\n",
    "h5f.create_dataset('X_train_Over', data=trainYearFeaturesOver)\n",
    "h5f.create_dataset('X_train_Under', data=trainYearFeaturesUnder)\n",
    "h5f.create_dataset('yTrain', data=trainYearTarget)\n",
    "h5f.create_dataset('yTest', data=testYearTarget)\n",
    "h5f.create_dataset('yTrain_Over', data=yTrainOver)\n",
    "h5f.create_dataset('yTrain_Under', data=yTrainUnder)\n",
    "\n",
    "# Close the file\n",
    "h5f.close()"
   ]
  }
 ],
 "metadata": {
  "kernelspec": {
   "display_name": "Python 3",
   "language": "python",
   "name": "python3"
  },
  "language_info": {
   "codemirror_mode": {
    "name": "ipython",
    "version": 3
   },
   "file_extension": ".py",
   "mimetype": "text/x-python",
   "name": "python",
   "nbconvert_exporter": "python",
   "pygments_lexer": "ipython3",
   "version": "3.6.7"
  }
 },
 "nbformat": 4,
 "nbformat_minor": 2
}
